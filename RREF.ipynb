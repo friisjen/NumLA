{
 "cells": [
  {
   "cell_type": "markdown",
   "metadata": {},
   "source": [
    "# Reduceret echelonform"
   ]
  },
  {
   "cell_type": "code",
   "execution_count": 10,
   "metadata": {},
   "outputs": [
    {
     "name": "stdout",
     "output_type": "stream",
     "text": [
      "Row Echelon Form:\n",
      "\\left[\\begin{matrix}1.0 & 1.0 & 0 & 0 & -2.0\\\\0 & 0 & 1.0 & 0 & 1.0\\\\0 & 0 & 0 & 1.0 & 0\\end{matrix}\\right]\n",
      "Operations:\n",
      "Scale R1 by 1/1.0\n",
      "R2 -> R2 - 1.0 * R1\n",
      "R3 -> R3 - 2.0 * R1\n",
      "Scale R2 by 1/1.0\n",
      "R1 -> R1 - 2.0 * R2\n",
      "R3 -> R3 - 1.0 * R2\n",
      "Scale R3 by 1/1.0\n",
      "R1 -> R1 - -1.0 * R3\n",
      "R2 -> R2 - 1.0 * R3\n"
     ]
    }
   ],
   "source": [
    "import numpy as np\n",
    "from sympy import Matrix, latex\n",
    "\n",
    "def row_echelon_form_operations(matrix):\n",
    "    # Konverter matricen til et Sympy matrix objekt\n",
    "    sympy_matrix = Matrix(matrix)\n",
    "\n",
    "    # Konverter Sympy matrix til et NumPy array for numeriske operationer\n",
    "    numpy_array = np.array(sympy_matrix.tolist(), dtype=float)\n",
    "\n",
    "    # Følg row operationer til senere at få dem\n",
    "    operations = []\n",
    "\n",
    "    # Anvend Gaussian elimination til at få reduceret row echelon form\n",
    "    num_rows, num_cols = numpy_array.shape\n",
    "    lead = 0\n",
    "    for r in range(num_rows):\n",
    "        if lead >= num_cols:\n",
    "            break\n",
    "\n",
    "        i = r\n",
    "        while numpy_array[i, lead] == 0:\n",
    "            i += 1\n",
    "            if i == num_rows:\n",
    "                i = r\n",
    "                lead += 1\n",
    "                if num_cols == lead:\n",
    "                    break\n",
    "\n",
    "        if i != r:\n",
    "            numpy_array[[i, r], :] = numpy_array[[r, i], :]\n",
    "            operations.append(f\"Swap R{i+1} and R{r+1}\")\n",
    "\n",
    "        if numpy_array[r, lead] != 0:\n",
    "            pivot = numpy_array[r, lead]\n",
    "            numpy_array[r, :] /= pivot\n",
    "            operations.append(f\"Scale R{r+1} by 1/{pivot}\")\n",
    "\n",
    "        for i in range(num_rows):\n",
    "            if i != r:\n",
    "                factor = numpy_array[i, lead]\n",
    "                numpy_array[i, :] -= factor * numpy_array[r, :]\n",
    "                operations.append(f\"R{i+1} -> R{i+1} - {factor} * R{r+1}\")\n",
    "\n",
    "        lead += 1\n",
    "\n",
    "    # Konverter NumPy array til Sympy matrix\n",
    "    echelon_matrix = Matrix(numpy_array)\n",
    "\n",
    "    # Konverter matricen til latex format\n",
    "    echelon_latex = latex(echelon_matrix)\n",
    "\n",
    "    return echelon_latex, operations\n",
    "\n",
    "# Matric som skal reduceres (hint: hvis du skal finde echelonform til et ligningssystem, så indsæt matricen du får EFTER at bruge np.stack)\n",
    "matrix = [[1, 1, 2, 1, 0],\n",
    "          [1, 1, 3, 2, 1],\n",
    "          [2, 2, 5, 4, 1]]\n",
    "\n",
    "echelon_form, operations = row_echelon_form_operations(matrix)\n",
    "print(\"Row Echelon Form:\")\n",
    "print(echelon_form)\n",
    "print(\"Operations:\")\n",
    "for operation in operations:\n",
    "    print(operation)"
   ]
  },
  {
   "cell_type": "markdown",
   "metadata": {},
   "source": [
    "I forhold til resultaterne ovenfor, så er følgende betydningen: \\\\\n",
    "Scale betyder skalar multiplikation (matrix[0, :] *= 1/1.0) \\\\\n",
    "R3 -> R3 - 2.0 * R1 betyder R3 skal laves om på med hensyn det til på højre side\n",
    "Swap betyder der skal byttes om på de to rækker (matrix[ [1, 2], :] = matrix[ [2, 1], :])"
   ]
  },
  {
   "cell_type": "code",
   "execution_count": 15,
   "metadata": {},
   "outputs": [
    {
     "name": "stdout",
     "output_type": "stream",
     "text": [
      "[[ 1.  1.  0.  1. -2.]\n",
      " [ 0.  0.  1.  0.  1.]\n",
      " [ 0.  0.  0.  1.  0.]]\n"
     ]
    }
   ],
   "source": [
    "# Det er vigtigt at tilføje dtype=float, ellers fungerer 1/1.0 ikke\n",
    "matrix = np.array([[1, 1, 2, 1, 0], [1, 1, 3, 2, 1], [2, 2, 5, 4, 1]], dtype=float)\n",
    "\n",
    "matrix[0, :] *= 1/1.0\n",
    "matrix[1, :] = matrix[1, :] - 1*matrix[0, :]\n",
    "matrix[2, :] = matrix[2, :] - 2*matrix[0, :]\n",
    "matrix[1, :] *= 1/1.0\n",
    "matrix[0, :] = matrix[0, :] - 2*matrix[1, :]\n",
    "matrix[2, :] = matrix[2, :] - 1*matrix[1, :]\n",
    "matrix[2, :] *= 1/1.0\n",
    "matrix[0, :] = matrix[0, :] - (-2)*matrix[2, :]\n",
    "matrix[1, :] = matrix[1, :] - 1*matrix[2, :]\n",
    "print(matrix)"
   ]
  }
 ],
 "metadata": {
  "kernelspec": {
   "display_name": "Python 3.11.3 64-bit",
   "language": "python",
   "name": "python3"
  },
  "language_info": {
   "codemirror_mode": {
    "name": "ipython",
    "version": 3
   },
   "file_extension": ".py",
   "mimetype": "text/x-python",
   "name": "python",
   "nbconvert_exporter": "python",
   "pygments_lexer": "ipython3",
   "version": "3.11.3"
  },
  "orig_nbformat": 4,
  "vscode": {
   "interpreter": {
    "hash": "aee8b7b246df8f9039afb4144a1f6fd8d2ca17a180786b69acc140d282b71a49"
   }
  }
 },
 "nbformat": 4,
 "nbformat_minor": 2
}
