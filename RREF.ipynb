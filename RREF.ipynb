{
 "cells": [
  {
   "cell_type": "markdown",
   "metadata": {},
   "source": [
    "# Reduceret echelonform"
   ]
  },
  {
   "cell_type": "code",
   "execution_count": 44,
   "metadata": {},
   "outputs": [
    {
     "name": "stdout",
     "output_type": "stream",
     "text": [
      "Row Echelon Form:\n",
      "\\left[\\begin{matrix}1.0 & 0 & 0 & 0.375\\\\0 & 1.0 & 0 & 0\\\\0 & 0 & 1.0 & -0.125\\end{matrix}\\right]\n",
      "Operations:\n",
      "Scale R1 by 1/1.0\n",
      "R2 -> R2 - 0.0 * R1\n",
      "R3 -> R3 - 0.0 * R1\n",
      "Scale R2 by 1/1.0\n",
      "R1 -> R1 - 0.0 * R2\n",
      "R3 -> R3 - 3.0 * R2\n",
      "Scale R3 by 1/24.0\n",
      "R1 -> R1 - 3.0 * R3\n",
      "R2 -> R2 - -8.0 * R3\n"
     ]
    }
   ],
   "source": [
    "import numpy as np\n",
    "from sympy import Matrix, latex\n",
    "\n",
    "def row_echelon_form_operations(matrix, precision=6):\n",
    "    # Convert the matrix to a SymPy matrix object\n",
    "    sympy_matrix = Matrix(matrix)\n",
    "\n",
    "    # Convert SymPy matrix to a NumPy array for numerical operations\n",
    "    numpy_array = np.array(sympy_matrix.tolist(), dtype=float)\n",
    "    # Track row operations for later retrieval\n",
    "    operations = []\n",
    "\n",
    "    # Apply Gaussian elimination to obtain the reduced row echelon form\n",
    "    num_rows, num_cols = numpy_array.shape\n",
    "    lead = 0\n",
    "    for r in range(num_rows):\n",
    "        if lead >= num_cols:\n",
    "            break\n",
    "\n",
    "        # Find a non-zero pivot element, swap rows if necessary\n",
    "        if numpy_array[r, lead] == 0:\n",
    "            for i in range(r + 1, num_rows):\n",
    "                if numpy_array[i, lead] != 0:\n",
    "                    numpy_array[[r, i], :] = numpy_array[[i, r], :]\n",
    "                    operations.append(f\"Swap R{r + 1} and R{i + 1}\")\n",
    "                    break\n",
    "\n",
    "        # If all elements in the current column are zero, move to the next column\n",
    "        if numpy_array[r, lead] == 0:\n",
    "            lead += 1\n",
    "            continue\n",
    "\n",
    "        pivot = numpy_array[r, lead]\n",
    "        numpy_array[r, :] /= pivot\n",
    "        operations.append(f\"Scale R{r + 1} by 1/{pivot}\")\n",
    "\n",
    "        for i in range(num_rows):\n",
    "            if i != r:\n",
    "                factor = numpy_array[i, lead]\n",
    "                numpy_array[i, :] -= factor * numpy_array[r, :]\n",
    "                operations.append(f\"R{i + 1} -> R{i + 1} - {factor} * R{r + 1}\")\n",
    "\n",
    "        lead += 1\n",
    "\n",
    "    # Round very small values to zero\n",
    "    numpy_array[np.abs(numpy_array) < 10 ** (-precision)] = 0\n",
    "\n",
    "    # Convert NumPy array back to SymPy matrix\n",
    "    echelon_matrix = Matrix(numpy_array)\n",
    "\n",
    "    # Convert the matrix to LaTeX format\n",
    "    echelon_latex = latex(echelon_matrix)\n",
    "\n",
    "    return echelon_latex, operations\n",
    "\n",
    "# Matric som skal reduceres (hint: hvis du skal finde echelonform til et ligningssystem, så indsæt matricen du får EFTER at bruge np.stack)\n",
    "matrix = [[1, 0, 3, 0],\n",
    "          [0, 1, -8, 1],\n",
    "          [0, 3, 0, 0]]\n",
    "\n",
    "echelon_form, operations = row_echelon_form_operations(matrix)\n",
    "print(\"Row Echelon Form:\")\n",
    "print(echelon_form)\n",
    "print(\"Operations:\")\n",
    "for operation in operations:\n",
    "    print(operation)"
   ]
  },
  {
   "cell_type": "markdown",
   "metadata": {},
   "source": [
    "I forhold til resultaterne ovenfor, så er følgende betydningen: $\\\\$\n",
    "Scale betyder skalar multiplikation (matrix[0, :] *= 1/1.0) $\\\\$\n",
    "R3 -> R3 - 2.0 * R1 betyder R3 skal laves om på med hensyn det til på højre side $\\\\$\n",
    "Swap betyder der skal byttes om på de to rækker (matrix[ [1, 2], :] = matrix[ [2, 1], :])"
   ]
  },
  {
   "cell_type": "code",
   "execution_count": null,
   "metadata": {},
   "outputs": [],
   "source": [
    "# Det er vigtigt at tilføje dtype=float, ellers fungerer 1/1.0 ikke\n",
    "matrix = np.array([[1, 1, 2, 1, 0], [1, 1, 3, 2, 1], [2, 2, 5, 4, 1]], dtype=float)\n",
    "\n",
    "matrix[0, :] *= 1/3.0\n",
    "matrix[1, :] = matrix[1, :] - 1*matrix[0, :]\n",
    "matrix[2, :] = matrix[2, :] - 2*matrix[0, :]\n",
    "matrix[1, :] *= 1/1.0\n",
    "matrix[0, :] = matrix[0, :] - 2*matrix[1, :]\n",
    "matrix[2, :] = matrix[2, :] - 1*matrix[1, :]\n",
    "matrix[2, :] *= 1/1.0\n",
    "matrix[0, :] = matrix[0, :] - (-2)*matrix[2, :]\n",
    "matrix[1, :] = matrix[1, :] - 1*matrix[2, :]\n",
    "print(matrix)"
   ]
  },
  {
   "cell_type": "markdown",
   "metadata": {},
   "source": [
    "# Anvendelse"
   ]
  },
  {
   "cell_type": "markdown",
   "metadata": {},
   "source": [
    "Reduced row echelonform bruges til flere ting indenfor Numerisk lineær algebra. Herunder til at løse lineære ligningssystemer, nulrummet, søjlerummet m.m. $\\\\$\n",
    "Lige nogle generelle informationer om, hvorfor man bruger reduced row echelonform. Reduced row echelonform kan f.x. bruges til at finde pivot elementer og frie variabler. Vi har derfor brugt den i aflevering 3, hvor vi skulle finde frem til én løsning af et ligningssystem, som afhænger af frie variabler. Pivot elementer er det første 1 tal i rækken, så i vores tilfælde ovenfor, er det $x_0$ i række 0, $x_2$ i række 1 og $x_3$ i række 2. Pivot søjlerne er derfor søjle 0, 2 og 3, da det er de søjler, hvor pivot elementerne befinder sig i. Variablerne i de ikke-pivot søjler er frie variabler, så i vores tilfælde er det $x_1$ og $x_4$. Hvis sidste søjle ville have været en pivot sølje, ville vores system ikke have en løsning."
   ]
  },
  {
   "cell_type": "markdown",
   "metadata": {},
   "source": [
    "**Find Nulrummet (eksempel ovenfor)** "
   ]
  },
  {
   "cell_type": "markdown",
   "metadata": {},
   "source": [
    "Nulrummet angives som N(A), hvor A er vores matrix. Først vil vi altid finde reduced row echelonform, som vi har gjort ovenfor. Derefter kan vi opstille et ligningssystem:\n",
    "$$\n",
    "    x_0 + x_1 - 2x_4 = 0, \\\\\n",
    "    x_2 + x_4 = 0, \\\\\n",
    "    x_3 = 0\n",
    "$$\n",
    "Vi har allerede fundet, at vores frie variabler er $x_1, x_4$. En generel løsning vil altså være:\n",
    "$$\n",
    "\\begin{bmatrix}\n",
    "    x_0 \\\\\n",
    "    x_1 \\\\\n",
    "    x_2 \\\\\n",
    "    x_3 \\\\\n",
    "    x_4\n",
    "\\end{bmatrix} =\n",
    "\\begin{bmatrix}\n",
    "    -x_1 + 2x_4 \\\\\n",
    "    x_1 \\\\\n",
    "    -x_4 \\\\\n",
    "    0 \\\\\n",
    "    x_4\n",
    "\\end{bmatrix} =\n",
    "x_1 \\begin{bmatrix}\n",
    "    -1 \\\\\n",
    "    1 \\\\\n",
    "    0 \\\\\n",
    "    0 \\\\\n",
    "    0\n",
    "\\end{bmatrix}\n",
    "x_4 \\begin{bmatrix}\n",
    "    2 \\\\\n",
    "    0 \\\\\n",
    "    -1 \\\\\n",
    "    0 \\\\\n",
    "    1\n",
    "\\end{bmatrix}\n",
    "$$"
   ]
  },
  {
   "cell_type": "code",
   "execution_count": null,
   "metadata": {},
   "outputs": [],
   "source": []
  }
 ],
 "metadata": {
  "kernelspec": {
   "display_name": "Python 3 (ipykernel)",
   "language": "python",
   "name": "python3"
  },
  "language_info": {
   "codemirror_mode": {
    "name": "ipython",
    "version": 3
   },
   "file_extension": ".py",
   "mimetype": "text/x-python",
   "name": "python",
   "nbconvert_exporter": "python",
   "pygments_lexer": "ipython3",
   "version": "3.11.3"
  },
  "vscode": {
   "interpreter": {
    "hash": "aee8b7b246df8f9039afb4144a1f6fd8d2ca17a180786b69acc140d282b71a49"
   }
  }
 },
 "nbformat": 4,
 "nbformat_minor": 2
}
