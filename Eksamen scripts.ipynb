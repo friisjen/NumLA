{
 "cells": [
  {
   "cell_type": "code",
   "execution_count": 3,
   "metadata": {},
   "outputs": [],
   "source": [
    "import sympy as sy\n",
    "import numpy as np\n",
    "import matplotlib.pyplot as plt"
   ]
  },
  {
   "attachments": {},
   "cell_type": "markdown",
   "metadata": {},
   "source": [
    "# Vinkel mellem vektorer"
   ]
  },
  {
   "cell_type": "code",
   "execution_count": 11,
   "metadata": {},
   "outputs": [
    {
     "name": "stdout",
     "output_type": "stream",
     "text": [
      "Angle between the vectors (in radians): 1.0471975511965979\n",
      "Angle between the vectors (in degrees): 60.00000000000001\n"
     ]
    }
   ],
   "source": [
    "def calculate_angle_between_vectors(vector1, vector2):\n",
    "    dot_product = np.dot(vector1.flatten(), vector2.flatten())\n",
    "    magnitude1 = np.linalg.norm(vector1)\n",
    "    magnitude2 = np.linalg.norm(vector2)\n",
    "    angle_radians = np.arccos(dot_product / (magnitude1 * magnitude2))\n",
    "    angle_deg = np.degrees(angle_radians)\n",
    "    return angle_radians, angle_deg\n",
    "\n",
    "# Example usage Sommer 2022 opgave 5:\n",
    "vector1 = np.array([1, 1, 1, 1])[:, np.newaxis]\n",
    "vector2 = np.array([1, 1, -1, 1])[:, np.newaxis]\n",
    "\n",
    "angle_radians, angle_deg = calculate_angle_between_vectors(vector1, vector2)\n",
    "print(\"Angle between the vectors (in radians):\", angle_radians)\n",
    "print(\"Angle between the vectors (in degrees):\", angle_deg)"
   ]
  },
  {
   "attachments": {},
   "cell_type": "markdown",
   "metadata": {},
   "source": [
    "# Bestemmelse af koordinatvektor"
   ]
  },
  {
   "attachments": {},
   "cell_type": "markdown",
   "metadata": {},
   "source": [
    "Her gør vi brug af følgende formel fra note-set 8.2, som er:  $ \\quad \\quad cos(\\theta) = \\frac{\\langle u, v \\rangle}{||u||_2 \\cdot ||v||_2}$"
   ]
  },
  {
   "cell_type": "code",
   "execution_count": 13,
   "metadata": {},
   "outputs": [
    {
     "name": "stdout",
     "output_type": "stream",
     "text": [
      "Coordinate vector [b]E:\n",
      "[[ 1.]\n",
      " [-1.]\n",
      " [-1.]]\n"
     ]
    }
   ],
   "source": [
    "\n",
    "def find_coordinate_vector(basis_vectors, vector):\n",
    "    A = np.concatenate(basis_vectors, axis=1)\n",
    "    x = np.linalg.solve(A, vector)\n",
    "    return x\n",
    "\n",
    "# Example usage, Sommer opgave 1:\n",
    "v_0 = np.array([[3], [2], [1]])\n",
    "v_1 = np.array([[1], [0], [2]])\n",
    "v_2 = np.array([[1], [1], [0]])\n",
    "basis_vectors = [v_0, v_1, v_2]\n",
    "\n",
    "b = np.array([[1], [1], [-1]])\n",
    "\n",
    "coordinate_vector = find_coordinate_vector(basis_vectors, b)\n",
    "print(\"Coordinate vector [b]E:\")\n",
    "print(coordinate_vector)"
   ]
  },
  {
   "cell_type": "code",
   "execution_count": null,
   "metadata": {},
   "outputs": [],
   "source": []
  }
 ],
 "metadata": {
  "kernelspec": {
   "display_name": "Python 3.11.3 64-bit",
   "language": "python",
   "name": "python3"
  },
  "language_info": {
   "codemirror_mode": {
    "name": "ipython",
    "version": 3
   },
   "file_extension": ".py",
   "mimetype": "text/x-python",
   "name": "python",
   "nbconvert_exporter": "python",
   "pygments_lexer": "ipython3",
   "version": "3.10.11"
  },
  "orig_nbformat": 4,
  "vscode": {
   "interpreter": {
    "hash": "aee8b7b246df8f9039afb4144a1f6fd8d2ca17a180786b69acc140d282b71a49"
   }
  }
 },
 "nbformat": 4,
 "nbformat_minor": 2
}
