{
 "cells": [
  {
   "cell_type": "code",
   "execution_count": 42,
   "metadata": {},
   "outputs": [],
   "source": [
    "import numpy as np\n",
    "import matplotlib.pyplot as plt\n",
    "import sympy as sym\n",
    "from fractions import Fraction\n",
    "\n",
    "np.set_printoptions(suppress=True, linewidth=200, precision=5)"
   ]
  },
  {
   "cell_type": "markdown",
   "metadata": {},
   "source": [
    "**Opgave 1**"
   ]
  },
  {
   "cell_type": "code",
   "execution_count": 43,
   "metadata": {},
   "outputs": [
    {
     "name": "stdout",
     "output_type": "stream",
     "text": [
      "1/37\n"
     ]
    }
   ],
   "source": [
    "# find s ved brug af ligning 9.4\n",
    "\n",
    "v = np.array([3, -1, 8])[:, np.newaxis]\n",
    "\n",
    "s = 2 / np.vdot(v, v)\n",
    "print(Fraction(s).limit_denominator())"
   ]
  },
  {
   "cell_type": "markdown",
   "metadata": {},
   "source": [
    "**Opgave 2**"
   ]
  },
  {
   "cell_type": "markdown",
   "metadata": {},
   "source": [
    "Her er det oplagt at forsøge, at løse ligningssystemet ved hjælp af Gauss-elimination og se, hvilket svarmulighed passer bedst. Vi kan prøve at løse systemet med a = 1 og a = 2 henholdsvis. Vi starter med a = 1:\n",
    "$$\n",
    "x + y + 3 = 5 \\\\\n",
    "2x + 4y + 18 = 10\n",
    "$$\n",
    "$$\n",
    "x + y = 2 \\\\\n",
    "2x + 4y = -8\n",
    "$$\n",
    "$$\n",
    "x = 2 - y\n",
    "4 - 2y + 4y = -8\n",
    "$$\n",
    "$$\n",
    "x = 2 - y\n",
    "2y = -12\n",
    "$$\n",
    "$$\n",
    "x = 8\n",
    "y = -6\n",
    "$$\n",
    "Vi får også en løsning til a = 2, dvs. det giver anledning til at antage, at den er konsistent for alle a."
   ]
  },
  {
   "cell_type": "markdown",
   "metadata": {},
   "source": [
    "**Opgave 3**"
   ]
  },
  {
   "cell_type": "markdown",
   "metadata": {},
   "source": [
    "Her tales der om kerne og billedmængde:\n",
    "$$\n",
    "\\begin{bmatrix}\n",
    "1.0 & 0 & 0 & 0.6 \\\\\n",
    "0 & 0 & 1.0 & -0.4\n",
    "\\end{bmatrix}\n",
    "$$\n",
    "$$\n",
    "x_0 + 0.6x_3 = 0 \\\\\n",
    "x_2 - 0.4x_3 = 0\n",
    "$$\n",
    "$$\n",
    "\\begin{bmatrix}\n",
    "x_0 \\\\\n",
    "x_1 \\\\\n",
    "x_2 \\\\\n",
    "x_3 \n",
    "\\end{bmatrix} =\n",
    "\\begin{bmatrix}\n",
    "-0.6x_3 \\\\\n",
    "x_1 \\\\\n",
    "0.4x_3 \\\\\n",
    "x_3\n",
    "\\end{bmatrix} =\n",
    "x_3 \\begin{bmatrix}\n",
    "-0.6 \\\\\n",
    "0 \\\\\n",
    "0.4 \\\\\n",
    "1\n",
    "\\end{bmatrix}\n",
    "x_1 \\begin{bmatrix}\n",
    "0 \\\\\n",
    "1 \\\\\n",
    "0 \\\\\n",
    "0\n",
    "\\end{bmatrix}\n",
    "$$\n",
    "Her har vi simpelthen fundet nulrummet, fordi eksempel 18.22 påstår at ker L er det samme som nulrummet. For at finde nulrummet har vi omdannet matricen, som man kan \"bygge\" ved at kigge på højre siden af ligningen, til en reduced row echelonform. Derefter har vi løst ligningssystemet, som man gør for et nulrum. Løsningen af dette er svaret til opgaven."
   ]
  },
  {
   "cell_type": "markdown",
   "metadata": {},
   "source": [
    "**Opgave 4**"
   ]
  },
  {
   "cell_type": "code",
   "execution_count": 44,
   "metadata": {},
   "outputs": [],
   "source": [
    "# Bestem hvor mange flops den bruger\n",
    "\n",
    "def back_subs(r, c):\n",
    "    n, _ = r.shape\n",
    "    x = np.empty((n, 1))\n",
    "    for i in reversed(range(n)):\n",
    "        x[i] = (c[i] - r[[i], i+1:] @ x[i+1:]) / r[i, i]\n",
    "        return x"
   ]
  },
  {
   "cell_type": "markdown",
   "metadata": {},
   "source": [
    "Det er vigtigt, at kigge på dimensionen, hvis man beregner flops. Vi har en vektor med dimension $R^{5}$ og en matrix med dimension $R^{5 \\times 5}$. Dog har vi det ikke hele tiden i vores metode ovenfor. Første gennemgang af loopen er n = 0. I den næste er det n = 1 og så op til 4. I loopen har vi først en differens (subtraction), så et række-søjleprodukt (bemærk at vi ganger to vektorer - r[[i], i+1:] er kun en søjle af matricen og c og x er begge også kun en søjle) og til sidst en division (kvotient). Dvs. har 5 gange alle tre operationer, så differens = 5, kvotient = 5. Række-søjleproduktet afhænger af dimensionen, som jo skiftes i hver gennemgang. Derfor vil det være $2 \\cdot (0 + 1 + 2 + 3 + 4 + 5) = 20$. I alt har vi altså 30 flops."
   ]
  },
  {
   "cell_type": "markdown",
   "metadata": {},
   "source": [
    "**Opgave 5**"
   ]
  },
  {
   "cell_type": "code",
   "execution_count": 45,
   "metadata": {},
   "outputs": [
    {
     "name": "stdout",
     "output_type": "stream",
     "text": [
      "True\n"
     ]
    }
   ],
   "source": [
    "# Script til ortogonalitet (Referer til afsnit 8.1 om ortogonalitet)\n",
    "\n",
    "import numpy as np\n",
    "from sympy import Matrix\n",
    "\n",
    "def is_orthogonal(vectors):\n",
    "    # Konverter array til NumPy array\n",
    "    vectors = np.array(vectors)\n",
    "    \n",
    "    # Beregn indre produkt af alle vektor par\n",
    "    dot_products = np.dot(vectors, vectors.T)\n",
    "    \n",
    "    # Lav et SymPy array fra dot produkt matricen\n",
    "    mat = Matrix(dot_products)\n",
    "    \n",
    "    # Tjek om matricen er diagonal (alle ikke-diagonaler er 0)\n",
    "    if mat.is_diagonal():\n",
    "        return True\n",
    "    else:\n",
    "        return False\n",
    "\n",
    "# Vektorene. HUSK: Man skal indgive dem sidelængs, altså fra venstre til højre ikke oppefra og ned\n",
    "vectors = [\n",
    "    [-4, 2, 1, 0],\n",
    "    [1, 2, 0, -4],\n",
    "    [0, 2, -4, 1],\n",
    "]\n",
    "\n",
    "result = is_orthogonal(vectors)\n",
    "print(result)  # Output: True"
   ]
  },
  {
   "cell_type": "code",
   "execution_count": 46,
   "metadata": {},
   "outputs": [
    {
     "name": "stdout",
     "output_type": "stream",
     "text": [
      "[4.58258 4.58258 4.58258]\n"
     ]
    }
   ],
   "source": [
    "# Script til længden af vektorer (Referer til 8.2 om 2-normen (siges at være længden))\n",
    "\n",
    "import numpy as np\n",
    "\n",
    "def calculate_vector_lengths(vectors):\n",
    "    # Konverter vektorene til et NumPy array\n",
    "    vectors = np.array(vectors)\n",
    "    \n",
    "    # Beregn længden af hver vektor\n",
    "    lengths = np.linalg.norm(vectors, axis=1)\n",
    "    \n",
    "    return lengths\n",
    "\n",
    "# Vektorene. HUSK: Man skal indgive dem sidelængs, altså fra venstre til højre ikke oppefra og ned\n",
    "vectors = [\n",
    "    [-4, 2, 1, 0],\n",
    "    [1, 2, 0, -4],\n",
    "    [0, 2, -4, 1],\n",
    "]\n",
    "\n",
    "lengths = calculate_vector_lengths(vectors)\n",
    "print(lengths)  # Output: [3.74165739 8.77496439 13.92838828]\n"
   ]
  },
  {
   "cell_type": "markdown",
   "metadata": {},
   "source": [
    "Ovenfor har vi, at vores samling er ortogonal og deres længde er allesammen 4.58258. Man kunne også argumentere med deres vinkler, som man kan beregne med følgende kode:"
   ]
  },
  {
   "cell_type": "code",
   "execution_count": 131,
   "metadata": {},
   "outputs": [
    {
     "name": "stdout",
     "output_type": "stream",
     "text": [
      "90.0\n"
     ]
    }
   ],
   "source": [
    "u_0 = np.array([-4, 2, 1, 0])\n",
    "u_1 = np.array([1, 2, 0, -4])\n",
    "u_2 = np.array([0, 2, -4, 1])\n",
    "\n",
    "# Vinkel mellem vektor u_0 og u_2 findes med cos(theta)\n",
    "\n",
    "cos_theta = ( np.dot(u_0, u_2) / (np.linalg.norm(u_0) * np.linalg.norm(u_2)))\n",
    "# Angives i radianer\n",
    "theta = np.arccos(cos_theta)\n",
    "\n",
    "# Brug np.degrees(theta) hvis det skal angives i grader\n",
    "\n",
    "print(np.degrees(theta))"
   ]
  },
  {
   "cell_type": "code",
   "execution_count": 55,
   "metadata": {},
   "outputs": [
    {
     "name": "stdout",
     "output_type": "stream",
     "text": [
      "Projection Pw: [-0.28571  0.57143 -0.28571 -0.28571]\n",
      "v3: [0.28571 0.42857 0.28571 0.28571]\n",
      "v3 is orthogonal to v: [-4.  2.  1.  0.]\n",
      "v3 is orthogonal to v: [ 1.  2.  0. -4.]\n",
      "v3 is orthogonal to v: [ 0.  2. -4.  1.]\n"
     ]
    }
   ],
   "source": [
    "# Script til at beregne projektion... forhåbentligt (Referer til 13.3 i notesæt)\n",
    "\n",
    "# delopgave c)\n",
    "\n",
    "import numpy as np\n",
    "\n",
    "# Define the vectors\n",
    "v0 = np.array([-4., 2., 1., 0.])\n",
    "v1 = np.array([1., 2., 0., -4.])\n",
    "v2 = np.array([0., 2., -4., 1.])\n",
    "w = np.array([0., 1., 0., 0.])\n",
    "\n",
    "# Calculate the projection Pw\n",
    "Pw = np.zeros_like(w)\n",
    "for v in [v0, v1, v2]:\n",
    "    Pw += np.dot(w, v) / np.dot(v, v) * v\n",
    "print(\"Projection Pw:\", Pw)\n",
    "\n",
    "v3 = w - Pw\n",
    "\n",
    "print(\"v3:\", v3)\n",
    "\n",
    "# Verify orthogonality with v0, v1, v2\n",
    "vectors = [v0, v1, v2]\n",
    "\n",
    "for v in vectors:\n",
    "    dot_product = np.dot(v3, v)\n",
    "    if np.isclose(dot_product, 0):\n",
    "        print(f\"v3 is orthogonal to v: {v}\")\n",
    "    else:\n",
    "        print(f\"v3 is not orthogonal to v: {v}\")"
   ]
  },
  {
   "cell_type": "markdown",
   "metadata": {},
   "source": [
    "Vi ser, at vores projektion er [-0.28571  0.57143 -0.28571 -0.28571] og at v_3 er ortogonale til alle de andre vektorer i samlingen. Her har vi brugt afsnit 8.1 og def 13.3 til at løse opgaven, hvor man bruger formlen for projektion og indre produkt til beregninger."
   ]
  },
  {
   "cell_type": "code",
   "execution_count": 81,
   "metadata": {},
   "outputs": [
    {
     "name": "stdout",
     "output_type": "stream",
     "text": [
      "[ 0.14286 -0.52381 -0.19048  7.33339]\n"
     ]
    }
   ],
   "source": [
    "# delopgave d)\n",
    "\n",
    "# n er hvor mange søjler man har - 1\n",
    "\n",
    "x = np.array([1., 2., 3., 4.])[:, np.newaxis]\n",
    "\n",
    "matrix = np.array([[-4., 1., 0., 0.28571],\n",
    "                   [2., 2., 2., 0.42857],\n",
    "                   [1., 0., -4., 0.28571],\n",
    "                   [0., -4., 1., 0.28571]])\n",
    "\n",
    "n = matrix.shape[1]  # Get the number of columns in the matrix\n",
    "\n",
    "def linKombination(matrix, x):\n",
    "    res = np.dot(x.T, matrix) / np.linalg.norm(matrix, axis=0)**2\n",
    "    return res\n",
    "\n",
    "result = linKombination(matrix, x)\n",
    "result = np.squeeze(result)  # Remove any singleton dimensions\n",
    "\n",
    "print(result)"
   ]
  },
  {
   "cell_type": "markdown",
   "metadata": {},
   "source": [
    "Her har vi brugt formlen $\\langle u, v \\rangle / ||v_i||_2^2$ til at finde den lineære kombination. Resultatet er $a_0 = 0.14286, a_1 = -0.52381, a_2 = -0.19048, a_3 = 7.33339$."
   ]
  },
  {
   "cell_type": "markdown",
   "metadata": {},
   "source": [
    "**Opgave 6**"
   ]
  },
  {
   "cell_type": "code",
   "execution_count": 82,
   "metadata": {},
   "outputs": [
    {
     "name": "stdout",
     "output_type": "stream",
     "text": [
      "[-70.81832  19.3505   -0.26823   2.93444]\n"
     ]
    }
   ],
   "source": [
    "# delopgave a)\n",
    "\n",
    "x = [-0.31, -0.15, -0.12, 0.01, 0.21, 0.33, 0.45]\n",
    "y = [7.1, 4.2, 2.1, 3.7, 3.2, 1.9, 0.5]\n",
    "\n",
    "A = np.vander(x, 4)\n",
    "\n",
    "U, s, Vt = np.linalg.svd(A, full_matrices=False)\n",
    "S_inv = np.diag(1 / s)\n",
    "pseudo_inv = np.dot(Vt.T, np.dot(S_inv, U.T))\n",
    "koefficient = np.dot(pseudo_inv, y)\n",
    "\n",
    "print(koefficient)"
   ]
  },
  {
   "cell_type": "markdown",
   "metadata": {},
   "source": [
    "Her bruger vi SVD til at finde U, s og Vt, som vi bagefter bruger til at finde den pseudo-inverse. Med den pseudo-inverse kan vi så finde x, som vist i ligning 16.5 i noterne. Det er løsningen til mindste-kvadraters metode."
   ]
  },
  {
   "cell_type": "code",
   "execution_count": 83,
   "metadata": {},
   "outputs": [
    {
     "data": {
      "image/png": "[encoded data removed]",
      "text/plain": [
       "<Figure size 640x480 with 1 Axes>"
      ]
     },
     "metadata": {},
     "output_type": "display_data"
    }
   ],
   "source": [
    "# delopgave b)\n",
    "\n",
    "values = np.linspace(min(x), max(x), 100)\n",
    "new_A = np.vander(values, 4)\n",
    "plot = np.dot(new_A, koefficient)\n",
    "\n",
    "plt.scatter(x, y, label='datapunkter')\n",
    "plt.plot(values, plot, color='red', label='tilnærmede værdier')\n",
    "plt.xlabel('x')\n",
    "plt.ylabel('y')\n",
    "plt.legend()\n",
    "plt.show()"
   ]
  },
  {
   "cell_type": "markdown",
   "metadata": {},
   "source": [
    "Her har vi plottet polynomiet, hvor der kan ses at den største afvigelse i (r, b) er i datapunkt 2, altså (-0.12, 2.1)."
   ]
  },
  {
   "cell_type": "code",
   "execution_count": 91,
   "metadata": {},
   "outputs": [
    {
     "data": {
      "text/plain": [
       "array([2.65785, 0.69343, 0.14193, 0.03302, 0.0051 , 0.00072, 0.00004])"
      ]
     },
     "execution_count": 91,
     "metadata": {},
     "output_type": "execute_result"
    }
   ],
   "source": [
    "# delopgave c)\n",
    "\n",
    "B = np.vander(x, 7)\n",
    "\n",
    "U, s, Vt = np.linalg.svd(B, full_matrices=False)\n",
    "s"
   ]
  },
  {
   "cell_type": "markdown",
   "metadata": {},
   "source": [
    "Her har vi meget simpelt bare brugt np.vander(x, 7), fordi vi nu har et 6-grads polynomie i stedet for et tredje-grads polynomie. Derefter laver vi igen SVD og printer s, som er singulærværdierne for det nye polynomie B."
   ]
  },
  {
   "cell_type": "markdown",
   "metadata": {},
   "source": [
    "**Opgave 7**"
   ]
  },
  {
   "cell_type": "markdown",
   "metadata": {},
   "source": [
    "delopgave a) $\\\\$\n",
    "Vi har matricen:\n",
    "$$\n",
    "A = \\begin{bmatrix}\n",
    "    6 & 3 & -1 \\\\\n",
    "    0 & -2 & 1 \\\\\n",
    "    0 & 0 & 1\n",
    "\\end{bmatrix}\n",
    "$$\n",
    "Efter indsættelse af $\\lambda_0 = 6, \\lambda_1 = 1, \\lambda_2 = -2$ har vi følgende tre matricer:\n",
    "$$\n",
    "\\lambda_0 = \\begin{bmatrix}\n",
    "0 & 3 & -1 \\\\\n",
    "0 & -8 & 1 \\\\\n",
    "0 & 0 & -5\n",
    "\\end{bmatrix},\n",
    "\\lambda_1 = \\begin{bmatrix}\n",
    "5 & 3 & -1 \\\\\n",
    "0 & -3 & 1 \\\\\n",
    "0 & 0 & 0\n",
    "\\end{bmatrix},\n",
    "\\lambda_2 = \\begin{bmatrix}\n",
    "8 & 3 & -1 \\\\\n",
    "0 & 0 & 1 \\\\\n",
    "0 & 0 & 3\n",
    "\\end{bmatrix}\n",
    "$$\n",
    "Så reducerer vi dem til row echelonform:\n",
    "$$\n",
    "\\lambda_0 = \\begin{bmatrix}0 & 0 & 0\\\\0 & 1.0 & 0\\\\0 & 0 & 1.0\\end{bmatrix},\n",
    "\\lambda_1 = \\begin{bmatrix}1.0 & 0 & 0\\\\0 & 1.0 & -0.333333333333333\\\\0 & 0 & 0\\end{bmatrix},\n",
    "\\lambda_2 = \\begin{bmatrix}1.0 & 0.375 & 0\\\\0 & 0 & 0\\\\0 & 0 & 1.0\\end{bmatrix}\n",
    "$$\n",
    "Vi kan se, at alle tre echelonform matricer har to pivot søjler (på grund af to pivot elementer), som betyder, at det er egenværdier der er tale om. Vi kan finde egenvektorerne ved at sætte ovesntående matricer lig med 0:\n",
    "$$\n",
    "0 = 0 \\\\\n",
    "x_1 = 0 \\\\\n",
    "x_2 = 0\n",
    "$$\n",
    "Her ser vi, at $x_0$ er en fri variabel, så vi kan antage dens værdi, som antager for at være 1:\n",
    "$$\n",
    "\\begin{bmatrix}\n",
    "1 \\\\\n",
    "0 \\\\\n",
    "0\n",
    "\\end{bmatrix}\n",
    "$$\n",
    "er egenvektoren for $\\lambda_0$. Næste har\n",
    "$$\n",
    "x_0 = 0 \\\\\n",
    "x_1 - 1/3x_2 = 0 \\\\\n",
    "0 = 0\n",
    "$$\n",
    "Her ser vi, at x_2 er en fri variabel, så vi antager dens værdi for at være 3, dvs:\n",
    "$$\n",
    "\\begin{bmatrix}\n",
    "0 \\\\\n",
    "1 \\\\\n",
    "3\n",
    "\\end{bmatrix}\n",
    "$$\n",
    "som er egenvektoren for $\\lambda_1$. Den sidste har:\n",
    "$$\n",
    "x_0 + 0.375x_1 = 0 \\\\\n",
    "0 = 0 \\\\\n",
    "x_2 = 1\n",
    "$$\n",
    "Vi ser, at $x_1$ er fri og antager dens værdi for at være -8 (af fordele):\n",
    "$$\n",
    "\\begin{bmatrix}\n",
    "3 \\\\\n",
    "-8 \\\\\n",
    "0\n",
    "\\end{bmatrix}\n",
    "$$\n",
    "som er egenvektoren for $\\lambda_2$."
   ]
  },
  {
   "cell_type": "markdown",
   "metadata": {},
   "source": [
    "delopgave b) $\\\\$\n",
    "Her skal man finde c-værdierne således vi får vektoren (0, 1, 0). Det viser sig, at man skal hstack vektoren på matricen dannet af de tre egenvektorer og så finde row echelonformen. Den sidste linje i row echelonform er så løsningerne til c. Her er matricen i row echelonform:\n",
    "$$\n",
    "\\begin{bmatrix}\n",
    "1.0 & 0 & 0 & 0.375 \\\\\n",
    "0 & 1.0 & 0 & 0 \\\\\n",
    "0 & 0 & 1.0 & -0.125\n",
    "\\end{bmatrix}\n",
    "$$\n",
    "Her ser vi så, at $c_0 = 0.375, c_1 = 0, c_2 = -0.125$. Hele denne proces bliver beskrevet i eksempel 22.3 ved hjælp af prop 22.2. Nu har vi fundet c-værdierne i tid 0, men vi skal også finde dem i tid t. Dvs:\n",
    "$$\n",
    "\\begin{bmatrix}\n",
    "3/8 \\cdot e^{6t} \\\\\n",
    "0\\\\\n",
    "-1/8 \\cdot e^{-2t}\n",
    "\\end{bmatrix}\n",
    "$$\n",
    "som vi nu kan plotte:"
   ]
  },
  {
   "cell_type": "code",
   "execution_count": 121,
   "metadata": {},
   "outputs": [
    {
     "data": {
      "image/png": "[encoded data removed]",
      "text/plain": [
       "<Figure size 640x480 with 1 Axes>"
      ]
     },
     "metadata": {},
     "output_type": "display_data"
    }
   ],
   "source": [
    "# plot\n",
    "\n",
    "t = np.linspace(0, 100, 100)\n",
    "\n",
    "v0 = np.array([1, 0, 0])[:, np.newaxis]\n",
    "v1 = np.array([0, 1, 3])[:, np.newaxis]\n",
    "v2 = np.array([3, -8, 0])[:, np.newaxis]\n",
    "\n",
    "c0 = 3/8\n",
    "c1 = 0\n",
    "c2 = -1/8\n",
    "\n",
    "function = (c0 * v0 * np.exp(6*t) + c1 * v1 * np.exp(1 * t) + c2 * v2 * np.exp(-2*t))\n",
    "\n",
    "fig, ax = plt.subplots()\n",
    "ax.plot(t, function[0, :], label = 'y0 towards t')\n",
    "ax.plot(t, function[1, :], label = 'y1 towards t')\n",
    "ax.plot(t, function[2, :], label = 'y2 towards t')\n",
    "ax.plot(*function, label='y0 towards t')\n",
    "plt.show()\n",
    "\n",
    "# Denne opgave er slet ikke løsbart. Ikke negang andrew fandt frem til en løsning som man forstår. Han må 100p have været fuld, da han skrev opgaven og løsningen til den."
   ]
  },
  {
   "cell_type": "code",
   "execution_count": 129,
   "metadata": {},
   "outputs": [
    {
     "name": "stdout",
     "output_type": "stream",
     "text": [
      "[5.11237 6.05892 5.9943  6.00055 5.99994 6.00001 6.      6.      6.      6.      6.      6.      6.      6.      6.      6.      6.      6.      6.      6.     ]\n"
     ]
    }
   ],
   "source": [
    "# delopgave c)\n",
    "\n",
    "a = np.array([[6, 3, 1], \n",
    "              [0, -2, 1], \n",
    "              [0, 0, 1]])\n",
    "\n",
    "def inv_potens_skridt(a, w, mu):\n",
    "    m, _ = a.shape\n",
    "    v = np.linalg.solve(a - mu * np.eye(m), w)\n",
    "    v /= np.linalg.norm(v)\n",
    "    lambda_ny = np.vdot(v, a @ v)\n",
    "    return lambda_ny, v\n",
    "\n",
    "mu = 5.5\n",
    "\n",
    "rng = np.random.default_rng()\n",
    "\n",
    "m, _ = a.shape\n",
    "w = rng.standard_normal((m, 1))\n",
    "w /= np.linalg.norm(w)\n",
    "\n",
    "n = 20\n",
    "lambda_out = np.empty(n)\n",
    "\n",
    "for i in range(n):\n",
    "    lambda_out[i], w = inv_potens_skridt(a, w, mu)\n",
    "\n",
    "print(lambda_out)"
   ]
  },
  {
   "cell_type": "markdown",
   "metadata": {},
   "source": [
    "Vi kan se, at den største værdi af sigma er 6."
   ]
  },
  {
   "cell_type": "code",
   "execution_count": 130,
   "metadata": {},
   "outputs": [
    {
     "data": {
      "text/plain": [
       "(array([[ 0.99273, -0.1085 , -0.05205],\n",
       "        [-0.11881, -0.95251, -0.28037],\n",
       "        [ 0.01916, -0.28452,  0.95848]]),\n",
       " array([6.82771, 2.17466, 0.80819]),\n",
       " array([[ 0.87238,  0.47099,  0.1308 ],\n",
       "        [-0.29937,  0.72633, -0.61873],\n",
       "        [-0.38642,  0.50062,  0.77464]]))"
      ]
     },
     "execution_count": 130,
     "metadata": {},
     "output_type": "execute_result"
    }
   ],
   "source": [
    "np.linalg.svd(a)"
   ]
  },
  {
   "cell_type": "markdown",
   "metadata": {},
   "source": [
    "I svd er den største værdi 6.82, som er lidt større end den vi får med invers potensmetoden, så den er ikke helt præcis."
   ]
  }
 ],
 "metadata": {
  "kernelspec": {
   "display_name": "Python 3.11.3 64-bit",
   "language": "python",
   "name": "python3"
  },
  "language_info": {
   "codemirror_mode": {
    "name": "ipython",
    "version": 3
   },
   "file_extension": ".py",
   "mimetype": "text/x-python",
   "name": "python",
   "nbconvert_exporter": "python",
   "pygments_lexer": "ipython3",
   "version": "3.11.3"
  },
  "orig_nbformat": 4,
  "vscode": {
   "interpreter": {
    "hash": "aee8b7b246df8f9039afb4144a1f6fd8d2ca17a180786b69acc140d282b71a49"
   }
  }
 },
 "nbformat": 4,
 "nbformat_minor": 2
}
