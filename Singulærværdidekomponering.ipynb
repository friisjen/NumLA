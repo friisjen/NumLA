{
 "cells": [
  {
   "cell_type": "code",
   "execution_count": 26,
   "metadata": {},
   "outputs": [],
   "source": [
    "import sympy as sy\n",
    "import numpy as np\n",
    "import matplotlib.pyplot as plt\n",
    "\n",
    "np.set_printoptions(suppress=True, linewidth=200, precision=5)"
   ]
  },
  {
   "cell_type": "markdown",
   "metadata": {},
   "source": [
    "# Singulærværdidekomponering"
   ]
  },
  {
   "cell_type": "markdown",
   "metadata": {},
   "source": [
    "Her tages der udgangspunkt i det samlede notesæt 2023. Fokus ligger på alt omkring SVD, dvs singulærværdier, men også konditionstal (Kapitel 10 og 11)."
   ]
  },
  {
   "cell_type": "markdown",
   "metadata": {},
   "source": [
    "**SVD** $\\\\$\n",
    "Ifølge sætning 10.2 har enhver matrix $A \\in \\textbf{R}^{m \\times n}$ en singulærværdidekomponering. Det vil ende med en matrix, hvor diagonalen udgøres af $\\sigma$, som har egenskaben $\\sigma_{0} \\geq \\sigma_{1} \\geq ... \\geq \\sigma_{k-1} \\geq 0$ og er singulærværdier for $A$. Søjlerne af $U$ er venstresingulærvektorer og søjlerne af $V$ er højresingulærvektorer. Et eksempel på SVD i python med hjælp af numpy vises nedenfor:"
   ]
  },
  {
   "cell_type": "code",
   "execution_count": 35,
   "metadata": {},
   "outputs": [],
   "source": [
    "# SVD\n",
    "x = [-0.01, 1.04, 1.31, 1.95, 2.58, 3.28, 3.86]\n",
    "a = np.vander(x, 3)\n",
    "\n",
    "u, s, vt = np.linalg.svd(a)"
   ]
  },
  {
   "cell_type": "code",
   "execution_count": 32,
   "metadata": {},
   "outputs": [
    {
     "name": "stdout",
     "output_type": "stream",
     "text": [
      "[[-0.00438  0.34515  0.87458  0.15451  0.18039  0.02811 -0.24241]\n",
      " [-0.06788  0.50211  0.04591 -0.28109 -0.01728  0.35674  0.73116]\n",
      " [-0.10038  0.50099 -0.08745 -0.41996 -0.50705 -0.45696 -0.29835]\n",
      " [-0.20381  0.43055 -0.2733   0.82072 -0.14029 -0.05742  0.04278]\n",
      " [-0.34192  0.26809 -0.27726 -0.18631  0.79904 -0.18977 -0.15859]\n",
      " [-0.53759 -0.02077 -0.07342 -0.1095  -0.19176  0.69483 -0.41668]\n",
      " [-0.73338 -0.34652  0.26154  0.02162 -0.12305 -0.37554  0.34209]]\n"
     ]
    }
   ],
   "source": [
    "print(u)"
   ]
  },
  {
   "cell_type": "code",
   "execution_count": 33,
   "metadata": {},
   "outputs": [
    {
     "name": "stdout",
     "output_type": "stream",
     "text": [
      "[21.00392  2.19736  0.73786]\n"
     ]
    }
   ],
   "source": [
    "# s udgør singulærværdierne \\sigma\n",
    "print(s)"
   ]
  },
  {
   "cell_type": "code",
   "execution_count": 34,
   "metadata": {},
   "outputs": [
    {
     "name": "stdout",
     "output_type": "stream",
     "text": [
      "[[-0.95255 -0.28927 -0.09471]\n",
      " [-0.25574  0.59188  0.76437]\n",
      " [ 0.16505 -0.75233  0.63778]]\n"
     ]
    }
   ],
   "source": [
    "print(vt)"
   ]
  },
  {
   "cell_type": "markdown",
   "metadata": {},
   "source": [
    "**SVD I HÅNDEN** $\\\\$\n",
    "Nogle opgaver (nok multiple choice) vil spørge om singulærværdier uden brug af python. Her er en guide til at beregne singulærværdier i latex. Guiden laves ved at løse opgave 1 i forår 2020 eksamenssættet:"
   ]
  },
  {
   "cell_type": "markdown",
   "metadata": {},
   "source": [
    "Man har en matrix:\n",
    "$$\\begin{bmatrix} 1 & 0 & 0 \\\\ 0 & -2 & 0 \\\\ 0 & 0 & 3 \\end{bmatrix}$$\n",
    "som man kan finde værdierne ud fra. Man vil først beregne $A^TA$ således\n",
    "$$A^TA = \\begin{bmatrix} 1 & 0 & 0 \\\\ 0 & -2 & 0 \\\\ 0 & 0 & 3 \\end{bmatrix} * \\begin{bmatrix} 1 & 0 & 0 \\\\ 0 & -2 & 0 \\\\ 0 & 0 & 3 \\end{bmatrix} = \\begin{bmatrix} 1 & 0 & 0 \\\\ 0 & 4 & 0 \\\\ 0 & 0 & 9 \\end{bmatrix}$$\n",
    "Derefter vil vi finde egenværdierne for $A^TA$, som gøres ved at løse ligningen $|A^TA - \\lambda I| = 0$ (Proposition 21.2), der kan beregnes som:\n",
    "$$|A^TA - \\lambda I| = \\begin{bmatrix} 1 - \\lambda & 0 & 0 \\\\ 0 & 4 - \\lambda & 0 \\\\ 0 & 0 & 9 - \\lambda \\end{bmatrix} = (1 - \\lambda)(4 - \\lambda)(9 - \\lambda)$$\n",
    "Nu sætter vi udtrykket lig med nul: \n",
    "$$(1 - \\lambda)(4 - \\lambda)(9 - \\lambda) = 0$$\n",
    "og ender med:\n",
    "$$\\lambda = 1, \\lambda = 4, \\lambda = 9$$\n",
    "Singulærværdierne finder vi nu, ved at tage kvadratroden af egenværdierne for $A^TA$. Vil har altså:\n",
    "$$\\sigma_{1} = \\sqrt{\\lambda_{1}} = \\sqrt{1} = 1$$\n",
    "$$\\sigma_{2} = \\sqrt{\\lambda_{2}} = \\sqrt{4} = 2$$\n",
    "$$\\sigma_{3} = \\sqrt{\\lambda_{3}} = \\sqrt{9} = 3$$\n",
    "Svaret til opgaven er altså mulighed A."
   ]
  },
  {
   "cell_type": "markdown",
   "metadata": {},
   "source": []
  }
 ],
 "metadata": {
  "kernelspec": {
   "display_name": "Python 3.11.3 64-bit",
   "language": "python",
   "name": "python3"
  },
  "language_info": {
   "codemirror_mode": {
    "name": "ipython",
    "version": 3
   },
   "file_extension": ".py",
   "mimetype": "text/x-python",
   "name": "python",
   "nbconvert_exporter": "python",
   "pygments_lexer": "ipython3",
   "version": "3.11.3"
  },
  "orig_nbformat": 4,
  "vscode": {
   "interpreter": {
    "hash": "aee8b7b246df8f9039afb4144a1f6fd8d2ca17a180786b69acc140d282b71a49"
   }
  }
 },
 "nbformat": 4,
 "nbformat_minor": 2
}
