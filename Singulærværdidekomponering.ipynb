{
 "cells": [
  {
   "cell_type": "code",
   "execution_count": 1,
   "metadata": {},
   "outputs": [],
   "source": [
    "import sympy as sy\n",
    "import numpy as np\n",
    "import matplotlib.pyplot as plt"
   ]
  },
  {
   "cell_type": "markdown",
   "metadata": {},
   "source": [
    "# Singulærværdidekomponering"
   ]
  },
  {
   "cell_type": "markdown",
   "metadata": {},
   "source": [
    "Her tages der udgangspunkt i det samlede notesæt 2023. Fokus ligger på alt omkring SVD, dvs singulærværdier, men også konditionstal (Kapitel 10 og 11)."
   ]
  },
  {
   "cell_type": "markdown",
   "metadata": {},
   "source": [
    "**SVD** $\\\\$\n",
    "Ifølge sætning 10.2 har enhver matrix $A \\in \\textbf{R}^{m \\times n}$ en singulærværdidekomponering. Det vil ende med en matrix, hvor diagonalen udgøres af $\\sigma$, som har egenskaben $\\sigma_{0} \\geq \\sigma_{1} \\geq ... \\geq \\sigma_{k-1} \\geq 0$ og er singulærværdier for $A$. Søjlerne af $U$ er venstresingulærvektorer og søjlerne af $V$ er højresingulærvektorer. Et eksempel på SVD i python med hjælp af numpy vises nedenfor:"
   ]
  },
  {
   "cell_type": "code",
   "execution_count": 4,
   "metadata": {},
   "outputs": [],
   "source": [
    "# SVD\n",
    "a = np.array([[1.0, 7.0], [1.0, -1.0]])\n",
    "\n",
    "u, s, vt = np.linalg.svd(a)"
   ]
  },
  {
   "cell_type": "code",
   "execution_count": 5,
   "metadata": {},
   "outputs": [
    {
     "name": "stdout",
     "output_type": "stream",
     "text": [
      "[[-0.99250756  0.12218326]\n",
      " [ 0.12218326  0.99250756]]\n"
     ]
    }
   ],
   "source": [
    "print(u)"
   ]
  },
  {
   "cell_type": "code",
   "execution_count": 9,
   "metadata": {},
   "outputs": [
    {
     "name": "stdout",
     "output_type": "stream",
     "text": [
      "[7.12310563 1.12310563]\n"
     ]
    }
   ],
   "source": [
    "# s udgør singulærværdierne \\sigma\n",
    "print(s)"
   ]
  },
  {
   "cell_type": "code",
   "execution_count": 7,
   "metadata": {},
   "outputs": [
    {
     "name": "stdout",
     "output_type": "stream",
     "text": [
      "[[-0.12218326 -0.99250756]\n",
      " [ 0.99250756 -0.12218326]]\n"
     ]
    }
   ],
   "source": [
    "print(vt)"
   ]
  }
 ],
 "metadata": {
  "kernelspec": {
   "display_name": "Python 3.11.3 64-bit",
   "language": "python",
   "name": "python3"
  },
  "language_info": {
   "codemirror_mode": {
    "name": "ipython",
    "version": 3
   },
   "file_extension": ".py",
   "mimetype": "text/x-python",
   "name": "python",
   "nbconvert_exporter": "python",
   "pygments_lexer": "ipython3",
   "version": "3.11.3"
  },
  "orig_nbformat": 4,
  "vscode": {
   "interpreter": {
    "hash": "aee8b7b246df8f9039afb4144a1f6fd8d2ca17a180786b69acc140d282b71a49"
   }
  }
 },
 "nbformat": 4,
 "nbformat_minor": 2
}
