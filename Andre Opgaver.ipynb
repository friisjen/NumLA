{
 "cells": [
  {
   "cell_type": "code",
   "execution_count": 35,
   "metadata": {},
   "outputs": [],
   "source": [
    "import numpy as np\n",
    "import matplotlib.pyplot as plt\n",
    "import sympy as sym\n",
    "from fractions import Fraction\n",
    "\n",
    "np.set_printoptions(suppress=True, linewidth=200, precision=5)"
   ]
  },
  {
   "cell_type": "markdown",
   "metadata": {},
   "source": [
    "**Forår 2020 5a**"
   ]
  },
  {
   "cell_type": "code",
   "execution_count": 36,
   "metadata": {},
   "outputs": [
    {
     "name": "stdout",
     "output_type": "stream",
     "text": [
      "[[16.  0.  0.]\n",
      " [ 0.  4.  0.]\n",
      " [ 0.  0. 18.]]\n"
     ]
    }
   ],
   "source": [
    "# Find grammatricen ved brug af afsnit 9.3\n",
    "\n",
    "V = np.array([[2., 1., 0], \n",
    "              [2.0, -1., 3.], \n",
    "              [-2., 1., 3.], \n",
    "              [-2., -1., 0.]])\n",
    "\n",
    "def Grammatricen(V):\n",
    "    G = np.dot(V.T, V)\n",
    "    return G\n",
    "\n",
    "print(Grammatricen(V))"
   ]
  },
  {
   "cell_type": "markdown",
   "metadata": {},
   "source": [
    "**Forår 2020 7a**"
   ]
  },
  {
   "cell_type": "code",
   "execution_count": 37,
   "metadata": {},
   "outputs": [
    {
     "name": "stdout",
     "output_type": "stream",
     "text": [
      "[[2 0 2]\n",
      " [0 3 0]\n",
      " [1 0 3]]\n"
     ]
    }
   ],
   "source": [
    "# Bestem det karakteristiske polynomie det(A - \\lambda I_3) af A.\n",
    "\n",
    "A = np.array([[2, 0, 2], \n",
    "              [0, 3, 0], \n",
    "              [1, 0, 3]])\n",
    "\n",
    "print(A)"
   ]
  },
  {
   "cell_type": "markdown",
   "metadata": {},
   "source": [
    "Vi har matricen A:\n",
    "$$\n",
    "\\begin{bmatrix}\n",
    "    2 & 0 & 2 \\\\\n",
    "    0 & 3 & 0 \\\\\n",
    "    1 & 0 & 3\n",
    "\\end{bmatrix}\n",
    "$$\n",
    "Vi finder nu matricen $det(A - \\lambda I_3)$, som der gøres i afsnit 21.1:\n",
    "$$\n",
    "det(A - \\lambda I_3) = det\\begin{bmatrix}\n",
    "    2 - \\lambda & 0 & 2 \\\\\n",
    "    0 & 3 - \\lambda & 0 \\\\\n",
    "    1 & 0 & 3 - \\lambda\n",
    "\\end{bmatrix}\n",
    "$$\n",
    "Denne kan vi nu beregne med definition 21.12 fra notesættet:\n",
    "$$\n",
    "det\\begin{bmatrix}\n",
    "    2 - \\lambda & 0 & 2 \\\\\n",
    "    0 & 3 - \\lambda & 0 \\\\\n",
    "    1 & 0 & 3 - \\lambda\n",
    "\\end{bmatrix} = (2 - \\lambda) \\cdot \\begin{bmatrix}\n",
    "    3 - \\lambda & 0 \\\\\n",
    "    0 & 3 - \\lambda\n",
    "\\end{bmatrix} - 0 \\cdot \\begin{bmatrix}\n",
    "    0 & 0 \\\\\n",
    "    1 & 3 - \\lambda\n",
    "\\end{bmatrix} + 2 \\cdot \\begin{bmatrix}\n",
    "    0 & 3 - \\lambda \\\\\n",
    "    1 & 0\n",
    "\\end{bmatrix}\n",
    "$$\n",
    "For lige at forklare, hvordan det kommer til at være, så er det med brug af def 21.12. Det er vigtigt at forstå, at det element i matricen man ganger med, står i en række og søjle. Den række og søjle den er i forkastes i matricen, som den ganges med. Dvs, hvis man tager elementet i række 0, søjle 0, så består matricen man ganger med her af række 1,2 og søjle 1,2. Ovenstående kan omskrives til "
   ]
  },
  {
   "cell_type": "code",
   "execution_count": 38,
   "metadata": {},
   "outputs": [
    {
     "data": {
      "text/latex": [
       "$\\displaystyle - \\left(\\lambda - 4\\right) \\left(\\lambda - 3\\right) \\left(\\lambda - 1\\right)$"
      ],
      "text/plain": [
       "-(lambda - 4)*(lambda - 3)*(lambda - 1)"
      ]
     },
     "execution_count": 38,
     "metadata": {},
     "output_type": "execute_result"
    }
   ],
   "source": [
    "l = sym.symbols('lambda')\n",
    "expression = (2 - l) * (3 - l)**2 + (2 * (-(3-l)))\n",
    "f = sym.factor(expression)\n",
    "f"
   ]
  },
  {
   "cell_type": "markdown",
   "metadata": {},
   "source": [
    "Så vores karakteristiske polynomie efter at have faktoriseret den er:\n",
    "$$\n",
    "-(\\lambda - 4)(\\lambda - 3)(\\lambda - 1)\n",
    "$$"
   ]
  },
  {
   "cell_type": "markdown",
   "metadata": {},
   "source": [
    "delopgave b) $\\\\$\n",
    "$$\n",
    "-(\\lambda - 4)(\\lambda - 3)(\\lambda - 1) = 0\n",
    "$$\n",
    "$$\n",
    "4, 3, 1\n",
    "$$\n",
    "Vi ser, at lambda skal være det samme som tallene de bliver minusset med for at det kan give nul."
   ]
  },
  {
   "cell_type": "code",
   "execution_count": 39,
   "metadata": {},
   "outputs": [
    {
     "data": {
      "text/plain": [
       "array([[2.16335, 0.16335, 2.16335],\n",
       "       [0.16335, 3.16335, 0.16335],\n",
       "       [1.16335, 0.16335, 3.16335]])"
      ]
     },
     "execution_count": 39,
     "metadata": {},
     "output_type": "execute_result"
    }
   ],
   "source": [
    "# delopgave c)\n",
    "\n",
    "A = np.array([[2, 0, 2], \n",
    "              [0, 3, 0], \n",
    "              [1, 0, 3]])\n",
    "\n",
    "c = A + np.random.random()*0.5 - 0.25\n",
    "c"
   ]
  },
  {
   "cell_type": "markdown",
   "metadata": {},
   "source": [
    "**Sommer 2020 5b,c,d**"
   ]
  },
  {
   "cell_type": "code",
   "execution_count": 40,
   "metadata": {},
   "outputs": [
    {
     "name": "stdout",
     "output_type": "stream",
     "text": [
      "-0.21052631578947364 1.9999999999999996 0.36842105263157904\n"
     ]
    }
   ],
   "source": [
    "# delopgave b)\n",
    "\n",
    "w = np.array([1, 2, 3])[:, np.newaxis]\n",
    "v0 = np.array([3, 1, -3])[:, np.newaxis]\n",
    "v1 = np.array([1, 0, 1])[:, np.newaxis]\n",
    "v2 = np.array([-1, 6, 1])[:, np.newaxis]\n",
    "\n",
    "x0 = np.vdot(w, v0) / np.linalg.norm(v0)**2\n",
    "x1 = np.vdot(w, v1) / np.linalg.norm(v1)**2\n",
    "x2 = np.vdot(w, v2) / np.linalg.norm(v2)**2\n",
    "\n",
    "print(x0, x1, x2)"
   ]
  },
  {
   "cell_type": "markdown",
   "metadata": {},
   "source": [
    "Ovenfor har vi brugt proposition 8.17, hvor w er vores u, og vi beregner x-værdierne med formel 8.9, som er værdierne vi fik ovenfor."
   ]
  },
  {
   "cell_type": "code",
   "execution_count": 41,
   "metadata": {},
   "outputs": [
    {
     "name": "stdout",
     "output_type": "stream",
     "text": [
      "True\n"
     ]
    }
   ],
   "source": [
    "# Bekræft værdierne\n",
    "\n",
    "print(np.allclose(w, x0 * v0 + x1 * v1 + x2 * v2, atol=np.finfo(float).eps))"
   ]
  },
  {
   "cell_type": "code",
   "execution_count": 43,
   "metadata": {},
   "outputs": [
    {
     "name": "stdout",
     "output_type": "stream",
     "text": [
      "14.0\n",
      "3.7416573867739413\n"
     ]
    }
   ],
   "source": [
    "# Parsevals identitet til at beregne norm^2 af w\n",
    "\n",
    "def parsevals(x0, x1, x2, v0, v1, v2):\n",
    "    wns = x0**2 * np.linalg.norm(v0)**2 + x1**2 * np.linalg.norm(v1)**2 + x2**2 * np.linalg.norm(v2)**2\n",
    "    return wns\n",
    "\n",
    "# Hvis de spørger om normen og ikke 2-normen, så tag kvadratroden af wns ovenfor\n",
    "\n",
    "ws = np.sqrt(parsevals(x0, x1, x2, v0, v1, v2))\n",
    "\n",
    "print(parsevals(x0, x1, x2, v0, v1, v2))\n",
    "print(ws)"
   ]
  }
 ],
 "metadata": {
  "kernelspec": {
   "display_name": "Python 3.11.3 64-bit",
   "language": "python",
   "name": "python3"
  },
  "language_info": {
   "codemirror_mode": {
    "name": "ipython",
    "version": 3
   },
   "file_extension": ".py",
   "mimetype": "text/x-python",
   "name": "python",
   "nbconvert_exporter": "python",
   "pygments_lexer": "ipython3",
   "version": "3.11.3"
  },
  "orig_nbformat": 4,
  "vscode": {
   "interpreter": {
    "hash": "aee8b7b246df8f9039afb4144a1f6fd8d2ca17a180786b69acc140d282b71a49"
   }
  }
 },
 "nbformat": 4,
 "nbformat_minor": 2
}
