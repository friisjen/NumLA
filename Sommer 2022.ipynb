{
 "cells": [
  {
   "cell_type": "code",
   "execution_count": 14,
   "metadata": {},
   "outputs": [],
   "source": [
    "import numpy as np\n",
    "import matplotlib.pyplot as plt\n",
    "import sympy as sym"
   ]
  },
  {
   "cell_type": "markdown",
   "metadata": {},
   "source": [
    "**Opgave 5**"
   ]
  },
  {
   "cell_type": "code",
   "execution_count": 19,
   "metadata": {},
   "outputs": [
    {
     "name": "stdout",
     "output_type": "stream",
     "text": [
      "59.99999999999999\n"
     ]
    }
   ],
   "source": [
    "# delopgave a)\n",
    "\n",
    "u_0 = np.array([1, 1, 1, 1])\n",
    "u_1 = np.array([1, 0, 1, 0])\n",
    "u_2 = np.array([1, 1, -1, 1])\n",
    "\n",
    "# Vinkel mellem vektor u_0 og u_2 findes med cos(theta)\n",
    "\n",
    "cos_theta = ( np.dot(u_0, u_2) / (np.linalg.norm(u_0) * np.linalg.norm(u_2)) )\n",
    "# Angives i radianer\n",
    "theta = np.arccos(cos_theta)\n",
    "\n",
    "# Brug np.degrees(theta) hvis det skal angives i grader\n",
    "\n",
    "print(np.degrees(theta))"
   ]
  },
  {
   "cell_type": "code",
   "execution_count": 24,
   "metadata": {},
   "outputs": [],
   "source": [
    "# delopgave b)\n",
    "\n",
    "Matrix = np.array([[1, 1, 1, 1], [1, 0, 1, 0], [1, 1, -1, 1]])\n",
    "\n"
   ]
  },
  {
   "cell_type": "markdown",
   "metadata": {},
   "source": [
    "$$\n",
    "\\begin{bmatrix}\n",
    "    1.0 & 0 & 0 & 0 \\\\\n",
    "    0 & 1.0 & 0 & 1.0 \\\\\n",
    "    0 & 0 & 1.0 & 0 \n",
    "\\end{bmatrix}\n",
    "$$\n",
    "Vi ser at søjle 0, 1, 2 har pivot elementer, men søjle 3 har ingen. Derfor er samlingen ikke lineært uafhængigt ifølge definition 14.2."
   ]
  },
  {
   "cell_type": "code",
   "execution_count": null,
   "metadata": {},
   "outputs": [],
   "source": []
  }
 ],
 "metadata": {
  "kernelspec": {
   "display_name": "Python 3.11.3 64-bit",
   "language": "python",
   "name": "python3"
  },
  "language_info": {
   "codemirror_mode": {
    "name": "ipython",
    "version": 3
   },
   "file_extension": ".py",
   "mimetype": "text/x-python",
   "name": "python",
   "nbconvert_exporter": "python",
   "pygments_lexer": "ipython3",
   "version": "3.11.3"
  },
  "orig_nbformat": 4,
  "vscode": {
   "interpreter": {
    "hash": "aee8b7b246df8f9039afb4144a1f6fd8d2ca17a180786b69acc140d282b71a49"
   }
  }
 },
 "nbformat": 4,
 "nbformat_minor": 2
}
