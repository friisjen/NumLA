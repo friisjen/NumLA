{
 "cells": [
  {
   "cell_type": "code",
   "execution_count": 330,
   "metadata": {},
   "outputs": [],
   "source": [
    "import numpy as np\n",
    "import matplotlib.pyplot as plt\n",
    "import sympy as sym\n",
    "\n",
    "np.set_printoptions(suppress=True, linewidth=200, precision=5)"
   ]
  },
  {
   "cell_type": "markdown",
   "metadata": {},
   "source": [
    "**Opgave 1**"
   ]
  },
  {
   "cell_type": "code",
   "execution_count": 331,
   "metadata": {},
   "outputs": [
    {
     "name": "stdout",
     "output_type": "stream",
     "text": [
      "[[ 1.  0.  0.  1.]\n",
      " [ 0.  1.  0. -1.]\n",
      " [ 0.  0.  1. -1.]]\n"
     ]
    }
   ],
   "source": [
    "matrix = np.array([[3, 1, 1, 1],\n",
    "                   [2, 0, 1, 1],\n",
    "                   [1, 2, 0, -1]], dtype=float)\n",
    "\n",
    "matrix[0, :] *= 1/3.0\n",
    "matrix[1, :] = matrix[1, :] - 2*matrix[0, :]\n",
    "matrix[2, :] = matrix[2, :] - 1*matrix[0, :]\n",
    "matrix[1, :] *= 1/(-2/3)\n",
    "matrix[0, :] = matrix[0, :] - 1/3*matrix[1, :]\n",
    "matrix[2, :] = matrix[2, :] - (5/3)*matrix[1, :]\n",
    "matrix[2, :] *= 1/(1/2)\n",
    "matrix[0, :] = matrix[0, :] - (1/2)*matrix[2, :]\n",
    "matrix[1, :] = matrix[1, :] - (-1/2)*matrix[2, :]\n",
    "print(matrix)"
   ]
  },
  {
   "cell_type": "markdown",
   "metadata": {},
   "source": [
    "Derved får vi at vores koordinatvektorer er lig med $\\begin{bmatrix} 1 \\\\ -1 \\\\ -1 \\end{bmatrix}$"
   ]
  },
  {
   "cell_type": "markdown",
   "metadata": {},
   "source": [
    "**Opgave 2**"
   ]
  },
  {
   "cell_type": "markdown",
   "metadata": {},
   "source": [
    "Ud fra de informationer vi i opgaven, kan vi ifølge definitionen af en grammatrice (afsnit 9.3) konkludere, at alle indgange undtagen for diagonalen bliver lig med 0. Vi ved dog ikke, hvad for tal der vil være på diagonalen, derfor er svaret en diagonalmatrix og ikke en identitetsmatrix."
   ]
  },
  {
   "cell_type": "markdown",
   "metadata": {},
   "source": [
    "**Opgave 3**"
   ]
  },
  {
   "cell_type": "markdown",
   "metadata": {},
   "source": [
    "Her skal vi løse den raw echelon form af matrixen:\n",
    "$$\n",
    "\\begin{bmatrix}\n",
    "1 & 1 & 0 & -2 \\\\\n",
    "1 & -1 & 2 & 0 \\\\\n",
    "0 & 1 & -1 & -1\n",
    "\\end{bmatrix}\n",
    "$$"
   ]
  },
  {
   "cell_type": "code",
   "execution_count": 332,
   "metadata": {},
   "outputs": [
    {
     "name": "stdout",
     "output_type": "stream",
     "text": [
      "[[ 1  0  1 -1]\n",
      " [ 0  1 -1 -1]\n",
      " [ 0  0  0  0]]\n"
     ]
    }
   ],
   "source": [
    "a = np.array([[1,1,0,-2],[1,-1,2,0],[0,1,-1,-1]])\n",
    "\n",
    "a[0, :] = (1/1.0) * a[0,:]\n",
    "a[1, :] = a[1, :] - a[0, :] * 1.0\n",
    "a[2, :] = a[2, :] - 0.0 * a[0, :]\n",
    "a[1, :] = a[1, :] * (1/-2.0)\n",
    "a[0, :] = a[0,:] - 1.0 * a[1, :]\n",
    "a[2, :] = a[2, :]- 1.0 * a[1, :]\n",
    "a[0,:] = a[0,:] - 1.0 * a[2, :]\n",
    "a[1, :] = a[1, :] -1.0 * a[2,:]\n",
    "\n",
    "print(a)\n"
   ]
  },
  {
   "cell_type": "markdown",
   "metadata": {},
   "source": [
    "hvilket vi omstiller til et ligningsystem. Allerede før det kan der ses at søjle 0 og 1 indeholder et pivot hvilket betyder at søjle 2 og 3 er frie variabler:\n",
    "$$\n",
    "x_0 + x_2 - x_3 = 0 \\\\\n",
    "x_1 - x_2 - x_3 = 0\n",
    "$$\n",
    "Hvilket vi så løser i forhold til nulrummet:\n",
    "$$\n",
    "\\begin{bmatrix}\n",
    "x_0 \\\\\n",
    "x_1 \\\\\n",
    "x_2 \\\\\n",
    "x_3\n",
    "\\end{bmatrix} =\n",
    "\\begin{bmatrix}\n",
    "-x_2 + x_3 \\\\\n",
    "x_2 + x_3 \\\\\n",
    "x_2 \\\\\n",
    "x_3\n",
    "\\end{bmatrix} = \n",
    "x_2\n",
    "\\begin{bmatrix}\n",
    "-1 \\\\\n",
    "1 \\\\\n",
    "1 \\\\\n",
    "0\n",
    "\\end{bmatrix}\n",
    "x_3\n",
    "\\begin{bmatrix} \n",
    "1 \\\\\n",
    "1 \\\\\n",
    "0 \\\\\n",
    "1\n",
    "\\end{bmatrix}\n",
    "$$\n",
    "Hvilket betyder at $$ \\begin{bmatrix}\n",
    "-1 \\\\\n",
    "1 \\\\\n",
    "1 \\\\\n",
    "0\n",
    "\\end{bmatrix} \\begin{bmatrix} \n",
    "1 \\\\\n",
    "1 \\\\\n",
    "0 \\\\\n",
    "1\n",
    "\\end{bmatrix}$$\n",
    "Er vores nulrum for A"
   ]
  },
  {
   "cell_type": "markdown",
   "metadata": {},
   "source": [
    "**Opgave 4**"
   ]
  },
  {
   "cell_type": "markdown",
   "metadata": {},
   "source": [
    "Vi får at vide, at vi har to vektorer u og v i $R^{100}$, med $v \\neq 0$, og at projektionen af u langs v kan beregnes med funktionen proj-på. Vi bruger Tabel 5.1 til at se, hvad omkostningerne er for de enkelte operationer. Vi ser, at vi har to Række-søjleprodukter (np.vdot), som begge tæller 2n, dvs $2 \\cdot 100$. Derfor har vi 400 flops indtil videre. Dernæst har vi til sidst et skalar-vektorprodukt, som tæller n flops, dvs. vi har 500 flops nu. Til sidst skal der også tages hensyn til division, som tæller en enkelt flop, dvs. vi ender med 501 flops, som er svar D."
   ]
  },
  {
   "cell_type": "markdown",
   "metadata": {},
   "source": [
    "**Opgave 5**"
   ]
  },
  {
   "cell_type": "code",
   "execution_count": 333,
   "metadata": {},
   "outputs": [
    {
     "name": "stdout",
     "output_type": "stream",
     "text": [
      "59.99999999999999\n"
     ]
    }
   ],
   "source": [
    "# delopgave a)\n",
    "\n",
    "u_0 = np.array([1, 1, 1, 1])\n",
    "u_1 = np.array([1, 0, 1, 0])\n",
    "u_2 = np.array([1, 1, -1, 1])\n",
    "\n",
    "# Vinkel mellem vektor u_0 og u_2 findes med cos(theta)\n",
    "\n",
    "cos_theta = ( np.dot(u_0, u_2) / (np.linalg.norm(u_0) * np.linalg.norm(u_2)) )\n",
    "# Angives i radianer\n",
    "theta = np.arccos(cos_theta)\n",
    "\n",
    "# Brug np.degrees(theta) hvis det skal angives i grader\n",
    "\n",
    "print(np.degrees(theta))"
   ]
  },
  {
   "cell_type": "code",
   "execution_count": 334,
   "metadata": {},
   "outputs": [],
   "source": [
    "# delopgave b)\n",
    "\n",
    "rMatrix = [[1, 1, 1],\n",
    "          [1, 0, 1],\n",
    "          [1, 1, -1],\n",
    "          [1, 0, 1]]"
   ]
  },
  {
   "cell_type": "markdown",
   "metadata": {},
   "source": [
    "$$\n",
    "\\left[\\begin{matrix}1.0 & 0 & 0\\\\0 & 1.0 & 0\\\\0 & 0 & 1.0\\\\0 & 0 & 0\\end{matrix}\\right]\n",
    "$$\n",
    "Vi ser at søjle 0, 1, 2 har pivot elementer. Derfor er samlingen lineært uafhængigt ifølge definition 14.2."
   ]
  },
  {
   "cell_type": "code",
   "execution_count": 335,
   "metadata": {},
   "outputs": [
    {
     "name": "stdout",
     "output_type": "stream",
     "text": [
      "[[0.5]\n",
      " [0.5]\n",
      " [0.5]\n",
      " [0.5]]\n",
      "[[ 0.5]\n",
      " [-0.5]\n",
      " [ 0.5]\n",
      " [-0.5]]\n",
      "[[ 0.70711]\n",
      " [ 0.     ]\n",
      " [-0.70711]\n",
      " [ 0.     ]]\n"
     ]
    }
   ],
   "source": [
    "# delopgave c)\n",
    "\n",
    "Matrix = np.array([[1, 1, 1], [1, 0, 1], [1, 1, -1], [1, 0, 1]])\n",
    "\n",
    "u_0 = np.array([[1], [1], [1], [1]])\n",
    "u_1 = np.array([[1], [0], [1], [0]])\n",
    "u_2 = np.array([[1], [1], [-1], [1]])\n",
    "\n",
    "# Forbedret Gram-Schmidt proces\n",
    "\n",
    "v_0 = u_0 / np.linalg.norm(u_0)\n",
    "print(v_0)\n",
    "\n",
    "v_1 = u_1 - (v_0.T @ u_1) * v_0\n",
    "v_1 = v_1 / np.linalg.norm(v_1)\n",
    "print(v_1)\n",
    "\n",
    "v_2 = u_2 - (v_0.T @ u_2) * v_0 - (v_1.T @ u_2) * v_1\n",
    "v_2 = v_2 / np.linalg.norm(v_2)\n",
    "print(v_2)"
   ]
  },
  {
   "cell_type": "markdown",
   "metadata": {},
   "source": [
    "Her har vi tre vektorer der tilsammen giver en ortonormal samling $v_0, v_1, v_2$, som udspænder det samme rum. (Hvis det skulle være en basis, så kunne man bruge 9.10)."
   ]
  },
  {
   "cell_type": "code",
   "execution_count": 336,
   "metadata": {},
   "outputs": [
    {
     "name": "stdout",
     "output_type": "stream",
     "text": [
      "[[0.]]\n",
      "0.0\n"
     ]
    }
   ],
   "source": [
    "# delopgave d)\n",
    "\n",
    "print(np.dot(v_2.T, u_0))\n",
    "\n",
    "print(1.0 * 0.70710678 + 1.0 * 0 + 1.0 * -0.70710678 + 1.0 * 0)"
   ]
  },
  {
   "cell_type": "markdown",
   "metadata": {},
   "source": [
    "Her beregner vi bare det indre produkt mellem $v_2$ og $u_0$ ved brug af afsnit 8.1. Resultatet er som vist ovenfor. Matematikken er vist nedenfor:\n",
    "$$ \n",
    "\\langle u,v \\rangle = u^T \\cdot v \\\\\n",
    "\\langle u,v \\rangle = 1.0 \\cdot 0.70710678 + 1.0 \\cdot 0 + 1.0 -0.70710678 + 1.0 \\cdot 0 = 0\n",
    "$$"
   ]
  },
  {
   "cell_type": "markdown",
   "metadata": {},
   "source": [
    "**Opgave 6**"
   ]
  },
  {
   "cell_type": "markdown",
   "metadata": {},
   "source": [
    "Her en forklaring af vander: $\\\\$\n",
    "x = np.array([1, 2, 3, 5]) $\\\\$\n",
    "N = 3 $\\\\$\n",
    "np.vander(x, N) $\\\\$\n",
    "array([[ 1,  1,  1], $\\\\$\n",
    "       [ 4,  2,  1], $\\\\$\n",
    "       [ 9,  3,  1], $\\\\$\n",
    "       [25,  5,  1]]) $\\\\$\n",
    "Første argument er altså vores matrix, imens anden angiver hvor mange potenser. I dette tilfælde er det tre potenser, dvs i 0, 1 og anden tages værdierne og opstilles i nye rækker."
   ]
  },
  {
   "cell_type": "code",
   "execution_count": 337,
   "metadata": {},
   "outputs": [
    {
     "name": "stdout",
     "output_type": "stream",
     "text": [
      "[[ 0.0001 -0.01    1.    ]\n",
      " [ 1.0816  1.04    1.    ]\n",
      " [ 1.7161  1.31    1.    ]\n",
      " [ 3.8025  1.95    1.    ]\n",
      " [ 6.6564  2.58    1.    ]\n",
      " [10.7584  3.28    1.    ]\n",
      " [14.8996  3.86    1.    ]]\n"
     ]
    }
   ],
   "source": [
    "# delopgave a)\n",
    " \n",
    "x = [-0.01, 1.04, 1.31, 1.95, 2.58, 3.28, 3.86]\n",
    "y = [0.13, 2.77, 3.12, 2.93, 1.43, -0.01, -1.76]\n",
    "\n",
    "A = np.vander(x, 3)\n",
    "print(A)"
   ]
  },
  {
   "cell_type": "markdown",
   "metadata": {},
   "source": [
    "Hvis vi bruger np.vander på vores x-værdier, får vi ovenstående matrix. Derefter kan vi bruge np.size på matricen og får at den er 21, dvs. $R^{7 \\times 3}$ og w og v har størrelse $R^{3}$ og $R^{7}$ henholdsvis. I forhold til datapunkterne, svarer w til x-værdierne, imens v svarer til y-værdierne. I forhold til p(x), svarer y til p(x) selv, altså venstre side af ligningen, imens w svarer til b,  c, d osv. i ligningen."
   ]
  },
  {
   "cell_type": "code",
   "execution_count": 338,
   "metadata": {},
   "outputs": [],
   "source": [
    "# delopgave b)\n",
    "\n",
    "U, s, Vt = np.linalg.svd(A, full_matrices=False)"
   ]
  },
  {
   "cell_type": "code",
   "execution_count": 339,
   "metadata": {},
   "outputs": [
    {
     "name": "stdout",
     "output_type": "stream",
     "text": [
      "[[-0.00438  0.34515  0.87458]\n",
      " [-0.06788  0.50211  0.04591]\n",
      " [-0.10038  0.50099 -0.08745]\n",
      " [-0.20381  0.43055 -0.2733 ]\n",
      " [-0.34192  0.26809 -0.27726]\n",
      " [-0.53759 -0.02077 -0.07342]\n",
      " [-0.73338 -0.34652  0.26154]]\n"
     ]
    }
   ],
   "source": [
    "print(U)"
   ]
  },
  {
   "cell_type": "code",
   "execution_count": 340,
   "metadata": {},
   "outputs": [
    {
     "name": "stdout",
     "output_type": "stream",
     "text": [
      "[21.00392  2.19736  0.73786]\n"
     ]
    }
   ],
   "source": [
    "print(s)"
   ]
  },
  {
   "cell_type": "code",
   "execution_count": 341,
   "metadata": {},
   "outputs": [
    {
     "name": "stdout",
     "output_type": "stream",
     "text": [
      "[[-0.95255 -0.28927 -0.09471]\n",
      " [-0.25574  0.59188  0.76437]\n",
      " [ 0.16505 -0.75233  0.63778]]\n"
     ]
    }
   ],
   "source": [
    "print(Vt)"
   ]
  },
  {
   "cell_type": "markdown",
   "metadata": {},
   "source": [
    "Vi ved at s angiver singulærværdierne, så de er:\n",
    "$$\n",
    "\\begin{bmatrix}\n",
    "    21.00392 \\\\\n",
    "    2.19736 \\\\\n",
    "    0.73786\n",
    "\\end{bmatrix}\n",
    "$$\n",
    "Dem kan vi nu bruge til at beregne konditionstallet k(A) som vist i ligning 11.10 i afsnit 11:\n",
    "$$\n",
    "\\kappa(A) = \\frac{\\sigma_0}{\\sigma_{k-1}}\n",
    "$$"
   ]
  },
  {
   "cell_type": "code",
   "execution_count": 342,
   "metadata": {},
   "outputs": [
    {
     "name": "stdout",
     "output_type": "stream",
     "text": [
      "28.465832727545795\n"
     ]
    }
   ],
   "source": [
    "kA = s[0] / s[-1]\n",
    "print(kA)"
   ]
  },
  {
   "cell_type": "markdown",
   "metadata": {},
   "source": [
    "Så k(A) er lig med 28.465832727545795."
   ]
  },
  {
   "cell_type": "code",
   "execution_count": 343,
   "metadata": {},
   "outputs": [
    {
     "name": "stdout",
     "output_type": "stream",
     "text": [
      "[-0.976    3.14108  0.36918]\n"
     ]
    }
   ],
   "source": [
    "# delopgave c)\n",
    "\n",
    "# Vi bruger ligning 16.5 til at finde x\n",
    "S_inv = np.diag(1 / s)\n",
    "pseudo_inv = np.dot(Vt.T, np.dot(S_inv, U.T))\n",
    "koefficient = np.dot(pseudo_inv, y)\n",
    "\n",
    "print(koefficient)"
   ]
  },
  {
   "cell_type": "code",
   "execution_count": 344,
   "metadata": {},
   "outputs": [
    {
     "name": "stdout",
     "output_type": "stream",
     "text": [
      "0.7824296410553826\n",
      "[-0.20767  0.18974  0.31092  0.14696 -0.54651 -0.18171  0.28827]\n"
     ]
    }
   ],
   "source": [
    "# Denne kode findes i afsnit 16.4\n",
    "\n",
    "restvektor = y - A @ koefficient\n",
    "print(np.linalg.norm(restvektor))\n",
    "print(restvektor)"
   ]
  },
  {
   "cell_type": "code",
   "execution_count": 345,
   "metadata": {},
   "outputs": [
    {
     "data": {
      "image/png": "[encoded data removed]",
      "text/plain": [
       "<Figure size 640x480 with 1 Axes>"
      ]
     },
     "metadata": {},
     "output_type": "display_data"
    }
   ],
   "source": [
    "values = np.linspace(min(x), max(x), 100)\n",
    "new_A = np.vander(values, 3)\n",
    "plot = np.dot(new_A, koefficient)\n",
    "\n",
    "plt.scatter(x, y, label='datapunkter')\n",
    "plt.plot(values, plot, color='red', label='tilnærmede værdier')\n",
    "plt.xlabel('x')\n",
    "plt.ylabel('y')\n",
    "plt.legend()\n",
    "plt.show()"
   ]
  },
  {
   "cell_type": "markdown",
   "metadata": {},
   "source": [
    "**Opgave 7**"
   ]
  },
  {
   "cell_type": "markdown",
   "metadata": {},
   "source": [
    "delopgave a) $\\\\$\n",
    "Vi bruger $det(A - \\lambda I_n) = 0$ til at se, om $\\lambda_0 = 5$ er en egenværdi af A:\n",
    "$$\n",
    "\\begin{bmatrix}\n",
    "    5 - 5 & 0 & 0 \\\\\n",
    "    1 & 1 - 5 & 1 \\\\\n",
    "    2 & 3 & -1 - 5 \n",
    "\\end{bmatrix} =\n",
    "\\begin{bmatrix}\n",
    "    0 & 0 & 0 \\\\\n",
    "    1 & - 4 & 1 \\\\\n",
    "    2 & 3 & - 6 \n",
    "\\end{bmatrix}\n",
    "$$\n",
    "Vi ser, at første række er lig 0, så der er højst to pivot elementer, dvs. 5 er en egenværdi for A. Vi kan finde en egenvektor for denne egenværdi ved at finde row echelonform af matricen, hvor $lambda_0 = 5$ blev indsættet:\n",
    "$$\n",
    "\\begin{bmatrix}\n",
    "    1.0 & 0 & -1.90909090909091 \\\\\n",
    "    0 & 1.0 & -0.727272727272727 \\\\\n",
    "    0 & 0 & 0\n",
    "\\end{bmatrix}\n",
    "$$\n",
    "Nu kan vi løse systemet efter at sætte det lig med nul:\n",
    "$$\n",
    "x_0 - 21/11x_2 = 0 \\\\\n",
    "x_1 - 8/11x_2 = 0\n",
    "$$\n",
    "$$\n",
    "x_0 = 21/11x_2 \\\\\n",
    "x_1 = 8/11x_2\n",
    "$$"
   ]
  },
  {
   "cell_type": "markdown",
   "metadata": {},
   "source": [
    "Vi ser, at x_2 er en fri variabel, som kan antage flere værdier. Dvs. vi kan f.eks. antage $x_2 = 11$ (med fordel) for at få lige tal i vektoren. Med denne antagelse, får vi så til sidst vektoren:\n",
    "$$\n",
    "v_0 = \\begin{bmatrix}\n",
    "    21 \\\\\n",
    "    8 \\\\\n",
    "    11\n",
    "\\end{bmatrix}\n",
    "$$\n",
    "da vi indsætter 11 i $x_2$ plads og derefter ser, at $x_0$ og $x_1$ får ovenstående værdier."
   ]
  },
  {
   "cell_type": "markdown",
   "metadata": {},
   "source": [
    "delopgave b) $\\\\$\n",
    "Vi har formlen $Av = \\lambda v$ fra def 21.1, som vi kan bruge til at finde egenværdi ud fra egenvektorer:\n",
    "$$\n",
    "\\begin{bmatrix}\n",
    "    5 & 0 & 0 \\\\\n",
    "    1 & 1 & 1 \\\\\n",
    "    2 & 3 & -1 \n",
    "\\end{bmatrix} \\begin{bmatrix}\n",
    "    0 \\\\\n",
    "    1 \\\\\n",
    "    1\n",
    "\\end{bmatrix} = \n",
    "\\begin{bmatrix}\n",
    "    0 \\\\\n",
    "    2 \\\\\n",
    "    2\n",
    "\\end{bmatrix} = \n",
    "\\lambda \\begin{bmatrix}\n",
    "    0 \\\\\n",
    "    1 \\\\\n",
    "    1 \n",
    "\\end{bmatrix} = \n",
    "2 \\begin{bmatrix}\n",
    "    0 \\\\\n",
    "    1 \\\\\n",
    "    1\n",
    "\\end{bmatrix}\n",
    "$$\n",
    "Dvs. vores egenværdi er $\\lambda = 2$."
   ]
  },
  {
   "cell_type": "code",
   "execution_count": 367,
   "metadata": {},
   "outputs": [
    {
     "name": "stdout",
     "output_type": "stream",
     "text": [
      "[2.28916 4.79011 4.50583 5.01783 4.92956 5.0044  4.98905 5.00074 4.99826 5.00012 4.99972 5.00002 4.99996 5.      4.99999 5.      5.      5.      5.      5.     ]\n"
     ]
    }
   ],
   "source": [
    "# delopgave c)\n",
    "\n",
    "a = np.array([[5, 0, 0], \n",
    "              [1, 1, 1], \n",
    "              [2, 3, -1]])\n",
    "\n",
    "def potens_skridt(a, w):\n",
    "    v = a @ w\n",
    "    v /= np.linalg.norm(v)\n",
    "    lambda_ny = np.vdot(v, a @ v)\n",
    "    return lambda_ny, v\n",
    "\n",
    "rng = np.random.default_rng()\n",
    "\n",
    "m, _ = a.shape\n",
    "w = rng.standard_normal((m, 1))\n",
    "n = 20\n",
    "lambda_o = np.zeros(n)\n",
    "\n",
    "for k in range(n):\n",
    "    lambda_o[k], w = potens_skridt(a, w)\n",
    "\n",
    "print(lambda_o)"
   ]
  },
  {
   "cell_type": "code",
   "execution_count": 368,
   "metadata": {},
   "outputs": [
    {
     "data": {
      "text/plain": [
       "Text(0, 0.5, 'lambda_out[k]')"
      ]
     },
     "execution_count": 368,
     "metadata": {},
     "output_type": "execute_result"
    },
    {
     "data": {
      "image/png": "[encoded data removed]",
      "text/plain": [
       "<Figure size 640x480 with 1 Axes>"
      ]
     },
     "metadata": {},
     "output_type": "display_data"
    }
   ],
   "source": [
    "fig, ax = plt.subplots()\n",
    "ax.plot(lambda_o, '-o')\n",
    "ax.set_xlabel('k')\n",
    "ax.set_ylabel('lambda_out[k]')"
   ]
  },
  {
   "cell_type": "code",
   "execution_count": 370,
   "metadata": {},
   "outputs": [
    {
     "name": "stdout",
     "output_type": "stream",
     "text": [
      "A w :\n",
      "[[ 0.     ]\n",
      " [-0.56695]\n",
      " [ 2.02424]]\n",
      "Sidste lambda ganget på w :\n",
      "[[ 0.     ]\n",
      " [ 1.82162]\n",
      " [-4.65636]]\n",
      "Relativ fejl:\n",
      "7.094769152652526\n"
     ]
    }
   ],
   "source": [
    "print('A w :')\n",
    "print(a @ w)\n",
    "print('Sidste lambda ganget på w :')\n",
    "print(lambda_o[-1] * w)\n",
    "print('Relativ fejl:')\n",
    "print(np.linalg.norm(a @ w - lambda_o[-1] * w)\n",
    "/ np.linalg.norm(w))"
   ]
  },
  {
   "cell_type": "code",
   "execution_count": 390,
   "metadata": {},
   "outputs": [
    {
     "data": {
      "text/plain": [
       "<matplotlib.legend.Legend at 0x112d2e910>"
      ]
     },
     "execution_count": 390,
     "metadata": {},
     "output_type": "execute_result"
    },
    {
     "data": {
      "image/png": "[encoded data removed]",
      "text/plain": [
       "<Figure size 640x480 with 1 Axes>"
      ]
     },
     "metadata": {},
     "output_type": "display_data"
    }
   ],
   "source": [
    "m, _ = a.shape\n",
    "w = rng.standard_normal((m, 1))\n",
    "n = 20\n",
    "lambda_out = np.zeros(n)\n",
    "w_out = np.zeros((m, n))\n",
    "\n",
    "\n",
    "for k in range(n):\n",
    "    lambda_out[k], w = potens_skridt(a, w)\n",
    "    w_out[:, [k]] = w\n",
    "\n",
    "fig, ax = plt.subplots()\n",
    "for i in range(m):\n",
    "    ax.plot(np.abs(w_out[i, :]), '-o', label=f'abs(w[{i},k])')\n",
    "ax.set_xlabel('k')\n",
    "ax.set_ylabel('y')\n",
    "fig.legend()"
   ]
  },
  {
   "cell_type": "code",
   "execution_count": 435,
   "metadata": {},
   "outputs": [
    {
     "name": "stdout",
     "output_type": "stream",
     "text": [
      "[-1.55441 -2.03464 -1.99773 -1.99891 -2.00066 -1.99973 -2.0001  -1.99997 -2.00001 -2.      -2.      -2.      -2.      -2.      -2.      -2.      -2.      -2.      -2.      -2.     ]\n"
     ]
    }
   ],
   "source": [
    "def inv_potens_skridt(a, w, mu):\n",
    "    m, _ = a.shape\n",
    "    v = np.linalg.solve(a - mu * np.eye(m), w)\n",
    "    v /= np.linalg.norm(v)\n",
    "    lambda_ny = np.vdot(v, a @ v)\n",
    "    return lambda_ny, v\n",
    "\n",
    "mu = -1\n",
    "\n",
    "rng = np.random.default_rng()\n",
    "\n",
    "m, _ = a.shape\n",
    "w = rng.standard_normal((m, 1))\n",
    "w /= np.linalg.norm(w)\n",
    "\n",
    "n = 20\n",
    "lambda_out = np.empty(n)\n",
    "\n",
    "for i in range(n):\n",
    "    lambda_out[i], w = inv_potens_skridt(a, w, mu)\n",
    "\n",
    "print(lambda_out)"
   ]
  },
  {
   "cell_type": "code",
   "execution_count": 437,
   "metadata": {},
   "outputs": [
    {
     "name": "stdout",
     "output_type": "stream",
     "text": [
      "False\n"
     ]
    }
   ],
   "source": [
    "machine_epsilon = np.finfo(float).eps\n",
    "print(np.allclose(a @ w, lambda_out[-1] * w,\n",
    "atol = machine_epsilon))"
   ]
  },
  {
   "cell_type": "markdown",
   "metadata": {},
   "source": [
    "Nu kan vi indsætte -2 ind i matricen som vores $\\lambda$ for at tjekke, om den holder og hvad dens egenvektor er:\n",
    "$$\n",
    "A = \\begin{bmatrix}\n",
    "    5 - -2 & 0 & 0 \\\\\n",
    "    1 & 1 - - 2 & 1 \\\\\n",
    "    2 & 3 & -1 -2 \n",
    "\\end{bmatrix} = \\begin{bmatrix}\n",
    "    7 & 0 & 0 \\\\\n",
    "    1 & 3 & 1 \\\\\n",
    "    2 & 3 & 1\n",
    "\\end{bmatrix}\n",
    "$$\n",
    "Vi finder row echelonform af denne matrix:\n",
    "$$\n",
    "\\begin{matrix}\n",
    "    1.0 & 0 & 0 \\\\\n",
    "    0 & 1.0 & 0.333333333333333 \\\\\n",
    "    0 & 0 & 0\n",
    "    \\end{matrix}\n",
    "$$\n",
    "Vi kan se, at sidste række er en nul-række, dvs vi kan maks have 2 pivot elementer og dermed er -2 en egenværdi. For at finde egenvektoren, omskriver vi til ligningssystem og sætter lig med nul:\n",
    "$$\n",
    "x_0 = 0 \\\\\n",
    "x_1 + 1/3x_2 = 0 \\\\\n",
    "0 = 0\n",
    "$$\n",
    "Vi kan se, at $x_2$ er en fri variabel, så vi kan antage en værdi, som vi vælger for at være -3, for den:\n",
    "$$\n",
    "\\begin{bmatrix}\n",
    "    0 \\\\\n",
    "    1 \\\\\n",
    "    -3\n",
    "\\end{bmatrix}\n",
    "$$\n",
    "som er egenvektoren for egenværdien $\\lambda_2 = -2$."
   ]
  },
  {
   "cell_type": "code",
   "execution_count": 438,
   "metadata": {},
   "outputs": [
    {
     "name": "stdout",
     "output_type": "stream",
     "text": [
      "[[ 0.     ]\n",
      " [ 0.31623]\n",
      " [-0.94868]]\n"
     ]
    }
   ],
   "source": [
    "v_2 = np.array([0, 1, -3])[:, np.newaxis]\n",
    "\n",
    "længde = v_2 / np.linalg.norm(v_2)\n",
    "print(længde)"
   ]
  }
 ],
 "metadata": {
  "kernelspec": {
   "display_name": "Python 3.11.3 64-bit",
   "language": "python",
   "name": "python3"
  },
  "language_info": {
   "codemirror_mode": {
    "name": "ipython",
    "version": 3
   },
   "file_extension": ".py",
   "mimetype": "text/x-python",
   "name": "python",
   "nbconvert_exporter": "python",
   "pygments_lexer": "ipython3",
   "version": "3.11.3"
  },
  "orig_nbformat": 4,
  "vscode": {
   "interpreter": {
    "hash": "aee8b7b246df8f9039afb4144a1f6fd8d2ca17a180786b69acc140d282b71a49"
   }
  }
 },
 "nbformat": 4,
 "nbformat_minor": 2
}
